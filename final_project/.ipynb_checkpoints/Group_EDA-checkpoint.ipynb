{
 "cells": [
  {
   "cell_type": "markdown",
   "metadata": {
    "cell_id": "00001-7dcfe742-6b6e-4399-b737-deba01416f5e",
    "deepnote_cell_type": "markdown",
    "tags": []
   },
   "source": [
    "## Link to data:\n",
    " https://clinecenter.illinois.edu/project/research-themes/democracy-and-development/coup-detat-project-cdp\n",
    "\n",
    "### Contents of this notebook\n",
    "- Introduction to Project\n",
    "- Variables list\n",
    "- Preparing the Data\n",
    "- Choosing our Response variable\n",
    "- Missing Data \n",
    "- Exploration of Potential Interests\n",
    "- Model Selection\n",
    "    - Lasso penalization\n",
    "    - Logistic Regression\n",
    "    - Random Forest\n",
    "    - Adaboost\n",
    "- Visuals\n",
    "    - subplots\n",
    "    - PCA\n",
    "\n",
    "\n"
   ]
  },
  {
   "cell_type": "markdown",
   "metadata": {
    "cell_id": "00002-0d005233-b591-4bfd-92af-9a855249cbe2",
    "deepnote_cell_type": "markdown",
    "tags": []
   },
   "source": [
    "## Introduction to our Project\n",
    "Our project looks at the Coup d'etats around the world across different years. Our data comes from the Cline Center from the University of Illinois Urbana-Champaign. The link to the website and data is: https://clinecenter.illinois.edu/project/research-themes/democracy-and-development/coup-detat-project-cdp\n",
    "\n",
    "From the Cline Center website, a coup is labeled as \"organized efforts to effect sudden and irregular(e.g. illegal or extra-legal) removal of the incumbent executive authority of a national government, or to displace the authority of the highest levels of one or more branches of the government.\" A coup is considered to be realized or unrealized. A realized coup would be a success in the removal of the incumbents or the removal of the incumbents ability to control the state. An unrealized coup is considered to be a conspiracy or an attempted coup, meaning an unsuccessful removal of an incumbent's power. Please note that we will be using realized coup or success or coup interchangeably to mean a success. Also note, that a coup technically includes conspiracies or attempts but these will be described as either unrealized, unsuccessful or as they are mentioned.\n",
    "\n"
   ]
  },
  {
   "cell_type": "markdown",
   "metadata": {
    "cell_id": "00002-84aa7a8e-8391-429d-a5b4-af7fff4d3dc3",
    "deepnote_cell_type": "markdown",
    "tags": []
   },
   "source": []
  },
  {
   "cell_type": "markdown",
   "metadata": {
    "cell_id": "00002-2ed36b90-d29d-4dce-a9d2-20bd62000601",
    "deepnote_cell_type": "markdown",
    "tags": []
   },
   "source": [
    "## Dataset \n",
    "\n",
    "The dataset contains the following columns: \n",
    "\n",
    "- `coup_id` - Unique number assigned to each event. It consists of the country’s cowcode and the eight digit date of the event in MMDDYYYY.\n",
    "- `cowcode` - A unique country code number based on the Correlates of War (COW) country code list4. It is used to identify the country where a coup event occurred. Please note, these codes are slightly different from\n",
    "- `country` - Name of the country where the coup event occured \n",
    "- `year` -  Year of the coup event.\n",
    "- `month` -  Month of the coup event.\n",
    "- `day` -  Day of the coup event. \n",
    "- `event_type` - Indicates whether the event is a coup, attempted coup, or conspiracy.\n",
    "- `unrealized` -  A dummy variable where one indicates an unsuccessful coup or plot and zero otherwise.\n",
    "- `realized` -  A dummy variable where one indicates a successful coup and zero otherwise.\n",
    "- `conspiracy` - A dummy variable where one indicates a coup conspiracy thwarted prior to execution and zero otherwise.\n",
    "- `attempt` -  A dummy variable where one indicates a coup was attempted by failed and zero otherwise.\n",
    "- `military` - A dummy variable where one indicates a military coup/attempt/conspiracy and zero otherwise.\n",
    "- `dissident` - A dummy variable where one indicates a dissident coup/attempt/conspiracy and zero otherwise.\n",
    "- `rebel` - A dummy variable where one indicates a rebel coup/attempt/conspiracy and zero otherwise.\n",
    "- `palace` - A dummy variable where one indicates a palace coup/attempt/conspiracy and zero otherwise.\n",
    "- `foreign` - A dummy variable where one indicates a foreign-backed coup/attempt/conspiracy and zero otherwise.\n",
    "- `auto` - A dummy variable where one indicates an auto coup and zero otherwise.\n",
    "- `resign` - A dummy variable where one indicates a forced resignation and zero otherwise\n",
    "- `popular` - A dummy variable where one indicates a popular revolt and zero otherwise.\n",
    "- `counter` - A dummy variable where one indicates a counter-coup and zero otherwise.\n",
    "- `other` - A dummy variable where one indicates the coup event does not fit into any of the above categories or the actors were not identified and zero otherwise.\n",
    "- `noharm` - A dummy variable where one indicates the deposed executive was not harmed during the coup event and zero otherwise.\n",
    "- `injured` - A dummy variable where one indicates the deposed executive was injured during the coup event and zero otherwise.\n",
    "- `killed` -  A dummy variable where one indicates the deposed executive was killed during the coup event and zero otherwise.\n",
    "- `harrest` - A dummy variable where one indicates the deposed executive was placed under house arrest and zero otherwise.\n",
    "- `jailed` -  A dummy variable where one indicates the deposed executive was jailed and zero otherwise.\n",
    "- `tried` - A dummy variable where one indicates the deposed executive was tried and zero otherwise.\n",
    "- `fled` - A dummy variable where one indicates the deposed executive fled the country and zero otherwise.\n",
    "- `exile` - A dummy variable where one indicate the deposed executive was banished from the country and zero otherwise."
   ]
  },
  {
   "cell_type": "code",
   "execution_count": 1,
   "metadata": {
    "cell_id": "00003-c71874d0-264b-4f98-b481-28e7edd13619",
    "deepnote_cell_type": "code",
    "deepnote_to_be_reexecuted": false,
    "execution_millis": 1701,
    "execution_start": 1638239971977,
    "source_hash": "e8a0f902",
    "tags": []
   },
   "outputs": [],
   "source": [
    "import os\n",
    "import sys\n",
    "\n",
    "import matplotlib.pyplot as plt\n",
    "import numpy as np\n",
    "import pandas as pd\n",
    "import seaborn as sns\n",
    "from sklearn.linear_model import LogisticRegressionCV\n",
    "from sklearn.metrics import (\n",
    "    accuracy_score, confusion_matrix, roc_curve, roc_auc_score\n",
    ")                           \n",
    "from sklearn.model_selection import train_test_split\n",
    "from sklearn.preprocessing import MinMaxScaler"
   ]
  },
  {
   "cell_type": "markdown",
   "metadata": {
    "cell_id": "00004-c06653ed-b11e-4e00-8667-e3fe231d3a26",
    "deepnote_cell_type": "markdown",
    "tags": []
   },
   "source": [
    "## Preparing the data\n",
    "\n",
    "- Creating a response variable Success based off of event type, which classifies the event as a coup, conspiracy, or attempted.\n",
    "- Success gives a 1 if there was a coup and a 0 for a conspiracy or attempt\n",
    "- Gather a list of the countries with coups and their success rates\n",
    "- Find a country with the most coups (not the rate of success)"
   ]
  },
  {
   "cell_type": "code",
   "execution_count": 2,
   "metadata": {
    "cell_id": "00004-1ea1e588-f804-44b8-944d-00846c5940a4",
    "deepnote_cell_type": "code",
    "deepnote_to_be_reexecuted": false,
    "execution_millis": 11,
    "execution_start": 1638239973688,
    "source_hash": "c7b29257",
    "tags": []
   },
   "outputs": [],
   "source": [
    "coup_df = pd.read_csv('Coupdata.csv')\n"
   ]
  },
  {
   "cell_type": "code",
   "execution_count": 3,
   "metadata": {
    "cell_id": "00005-c0c7057e-fc2d-4af8-a0c8-158f2a072c02",
    "deepnote_cell_type": "code",
    "deepnote_to_be_reexecuted": false,
    "execution_millis": 97,
    "execution_start": 1638239973804,
    "source_hash": "41e938e2",
    "tags": []
   },
   "outputs": [
    {
     "data": {
      "text/html": [
       "<div>\n",
       "<style scoped>\n",
       "    .dataframe tbody tr th:only-of-type {\n",
       "        vertical-align: middle;\n",
       "    }\n",
       "\n",
       "    .dataframe tbody tr th {\n",
       "        vertical-align: top;\n",
       "    }\n",
       "\n",
       "    .dataframe thead th {\n",
       "        text-align: right;\n",
       "    }\n",
       "</style>\n",
       "<table border=\"1\" class=\"dataframe\">\n",
       "  <thead>\n",
       "    <tr style=\"text-align: right;\">\n",
       "      <th></th>\n",
       "      <th>coup_id</th>\n",
       "      <th>cowcode</th>\n",
       "      <th>country</th>\n",
       "      <th>year</th>\n",
       "      <th>month</th>\n",
       "      <th>day</th>\n",
       "      <th>event_type</th>\n",
       "      <th>unrealized</th>\n",
       "      <th>realized</th>\n",
       "      <th>conspiracy</th>\n",
       "      <th>...</th>\n",
       "      <th>counter</th>\n",
       "      <th>other</th>\n",
       "      <th>noharm</th>\n",
       "      <th>injured</th>\n",
       "      <th>killed</th>\n",
       "      <th>harrest</th>\n",
       "      <th>jailed</th>\n",
       "      <th>tried</th>\n",
       "      <th>fled</th>\n",
       "      <th>exile</th>\n",
       "    </tr>\n",
       "  </thead>\n",
       "  <tbody>\n",
       "    <tr>\n",
       "      <th>0</th>\n",
       "      <td>43910302014</td>\n",
       "      <td>439</td>\n",
       "      <td>Burkina Faso</td>\n",
       "      <td>2014</td>\n",
       "      <td>10</td>\n",
       "      <td>30</td>\n",
       "      <td>coup</td>\n",
       "      <td>0</td>\n",
       "      <td>1</td>\n",
       "      <td>0</td>\n",
       "      <td>...</td>\n",
       "      <td>0</td>\n",
       "      <td>0</td>\n",
       "      <td>1</td>\n",
       "      <td>0</td>\n",
       "      <td>0</td>\n",
       "      <td>0</td>\n",
       "      <td>0</td>\n",
       "      <td>0</td>\n",
       "      <td>1</td>\n",
       "      <td>0</td>\n",
       "    </tr>\n",
       "    <tr>\n",
       "      <th>1</th>\n",
       "      <td>51605132015</td>\n",
       "      <td>516</td>\n",
       "      <td>Burundi</td>\n",
       "      <td>2015</td>\n",
       "      <td>5</td>\n",
       "      <td>13</td>\n",
       "      <td>attempted</td>\n",
       "      <td>1</td>\n",
       "      <td>0</td>\n",
       "      <td>0</td>\n",
       "      <td>...</td>\n",
       "      <td>0</td>\n",
       "      <td>0</td>\n",
       "      <td>1</td>\n",
       "      <td>0</td>\n",
       "      <td>0</td>\n",
       "      <td>0</td>\n",
       "      <td>0</td>\n",
       "      <td>0</td>\n",
       "      <td>0</td>\n",
       "      <td>0</td>\n",
       "    </tr>\n",
       "    <tr>\n",
       "      <th>2</th>\n",
       "      <td>48304132006</td>\n",
       "      <td>483</td>\n",
       "      <td>Chad</td>\n",
       "      <td>2006</td>\n",
       "      <td>4</td>\n",
       "      <td>13</td>\n",
       "      <td>attempted</td>\n",
       "      <td>1</td>\n",
       "      <td>0</td>\n",
       "      <td>0</td>\n",
       "      <td>...</td>\n",
       "      <td>0</td>\n",
       "      <td>0</td>\n",
       "      <td>1</td>\n",
       "      <td>0</td>\n",
       "      <td>0</td>\n",
       "      <td>0</td>\n",
       "      <td>0</td>\n",
       "      <td>0</td>\n",
       "      <td>0</td>\n",
       "      <td>0</td>\n",
       "    </tr>\n",
       "    <tr>\n",
       "      <th>3</th>\n",
       "      <td>65102112011</td>\n",
       "      <td>651</td>\n",
       "      <td>Egypt</td>\n",
       "      <td>2011</td>\n",
       "      <td>2</td>\n",
       "      <td>11</td>\n",
       "      <td>coup</td>\n",
       "      <td>0</td>\n",
       "      <td>1</td>\n",
       "      <td>0</td>\n",
       "      <td>...</td>\n",
       "      <td>0</td>\n",
       "      <td>0</td>\n",
       "      <td>1</td>\n",
       "      <td>0</td>\n",
       "      <td>0</td>\n",
       "      <td>0</td>\n",
       "      <td>1</td>\n",
       "      <td>1</td>\n",
       "      <td>0</td>\n",
       "      <td>0</td>\n",
       "    </tr>\n",
       "    <tr>\n",
       "      <th>4</th>\n",
       "      <td>65107032013</td>\n",
       "      <td>651</td>\n",
       "      <td>Egypt</td>\n",
       "      <td>2013</td>\n",
       "      <td>7</td>\n",
       "      <td>3</td>\n",
       "      <td>coup</td>\n",
       "      <td>0</td>\n",
       "      <td>1</td>\n",
       "      <td>0</td>\n",
       "      <td>...</td>\n",
       "      <td>0</td>\n",
       "      <td>0</td>\n",
       "      <td>1</td>\n",
       "      <td>0</td>\n",
       "      <td>0</td>\n",
       "      <td>0</td>\n",
       "      <td>1</td>\n",
       "      <td>1</td>\n",
       "      <td>0</td>\n",
       "      <td>0</td>\n",
       "    </tr>\n",
       "  </tbody>\n",
       "</table>\n",
       "<p>5 rows × 29 columns</p>\n",
       "</div>"
      ],
      "text/plain": [
       "       coup_id  cowcode       country  year  month  day event_type  \\\n",
       "0  43910302014      439  Burkina Faso  2014     10   30       coup   \n",
       "1  51605132015      516       Burundi  2015      5   13  attempted   \n",
       "2  48304132006      483          Chad  2006      4   13  attempted   \n",
       "3  65102112011      651         Egypt  2011      2   11       coup   \n",
       "4  65107032013      651         Egypt  2013      7    3       coup   \n",
       "\n",
       "   unrealized  realized  conspiracy  ...  counter  other  noharm  injured  \\\n",
       "0           0         1           0  ...        0      0       1        0   \n",
       "1           1         0           0  ...        0      0       1        0   \n",
       "2           1         0           0  ...        0      0       1        0   \n",
       "3           0         1           0  ...        0      0       1        0   \n",
       "4           0         1           0  ...        0      0       1        0   \n",
       "\n",
       "   killed  harrest  jailed  tried  fled  exile  \n",
       "0       0        0       0      0     1      0  \n",
       "1       0        0       0      0     0      0  \n",
       "2       0        0       0      0     0      0  \n",
       "3       0        0       1      1     0      0  \n",
       "4       0        0       1      1     0      0  \n",
       "\n",
       "[5 rows x 29 columns]"
      ]
     },
     "execution_count": 3,
     "metadata": {},
     "output_type": "execute_result"
    }
   ],
   "source": [
    "coup_df.head()"
   ]
  },
  {
   "cell_type": "markdown",
   "metadata": {
    "cell_id": "00007-b8c13392-d428-40ac-bc3b-c0de538cc92b",
    "deepnote_cell_type": "markdown",
    "tags": []
   },
   "source": [
    "### Choosing our Response Variable: \n",
    "We decided to use the column realized as our response variable that is based off of event type. Event type has three categories (coup, attempted, conspiracy). This  column in the dataframe will be based off the event_type column and will create a list of 1s or 0s to signify whether a coup was successful (1) or unsuccesful (0). The unrealized column is the exact opposite which shows failures as (1) and successes as (0). Since unrealized is the exact opposite we will drop this from the list of chosen predictors."
   ]
  },
  {
   "cell_type": "code",
   "execution_count": 4,
   "metadata": {
    "cell_id": "00006-42658fd9-5412-4cd0-ac11-962bf138e01b",
    "deepnote_cell_type": "code",
    "deepnote_output_heights": [
     21
    ],
    "deepnote_to_be_reexecuted": false,
    "execution_millis": 17,
    "execution_start": 1638239973885,
    "source_hash": "1d50ae71",
    "tags": []
   },
   "outputs": [
    {
     "name": "stdout",
     "output_type": "stream",
     "text": [
      "The metrics used to determine a successful coup: ['coup' 'attempted' 'conspiracy']\n",
      "If the event type is a coup it counts as a real or a 1 whereas attempted and conspiracy are considered a unrealized coup given a 0.\n"
     ]
    }
   ],
   "source": [
    "event_types = coup_df.event_type.unique()\n",
    "print(\"The metrics used to determine a successful coup:\", event_types)\n",
    "print(\"If the event type is a coup it counts as a real or a 1 whereas attempted and conspiracy are considered a unrealized coup given a 0.\")\n",
    "\n"
   ]
  },
  {
   "cell_type": "code",
   "execution_count": 5,
   "metadata": {
    "cell_id": "00008-f9811766-90b9-4f15-94a7-64b416996e08",
    "deepnote_cell_type": "code",
    "deepnote_to_be_reexecuted": false,
    "execution_millis": 1,
    "execution_start": 1638239973892,
    "source_hash": "de0318e4",
    "tags": []
   },
   "outputs": [],
   "source": [
    "features = list(coup_df.columns)\n",
    "\n",
    "## Should decide if what data types we have"
   ]
  },
  {
   "cell_type": "markdown",
   "metadata": {
    "cell_id": "00010-39cf3756-76c9-4c4d-8327-1120de8455d4",
    "deepnote_cell_type": "markdown",
    "tags": []
   },
   "source": [
    "## Checking for Missing Data\n",
    "\n",
    "We will explore whether or not the dataframe is missing any data for any of the predictors so we can decide our imputation means. Our data looks to not have any missing data!"
   ]
  },
  {
   "cell_type": "code",
   "execution_count": 6,
   "metadata": {
    "cell_id": "00010-4fae1d30-8a82-4473-b317-b21a4399a579",
    "deepnote_cell_type": "code",
    "deepnote_output_heights": [
     572
    ],
    "deepnote_to_be_reexecuted": false,
    "execution_millis": 47,
    "execution_start": 1638239973978,
    "source_hash": "d620333d",
    "tags": []
   },
   "outputs": [
    {
     "data": {
      "text/plain": [
       "coup_id       0\n",
       "cowcode       0\n",
       "country       0\n",
       "year          0\n",
       "month         0\n",
       "day           0\n",
       "event_type    0\n",
       "unrealized    0\n",
       "realized      0\n",
       "conspiracy    0\n",
       "attempt       0\n",
       "military      0\n",
       "dissident     0\n",
       "rebel         0\n",
       "palace        0\n",
       "foreign       0\n",
       "auto          0\n",
       "resign        0\n",
       "popular       0\n",
       "counter       0\n",
       "other         0\n",
       "noharm        0\n",
       "injured       0\n",
       "killed        0\n",
       "harrest       0\n",
       "jailed        0\n",
       "tried         0\n",
       "fled          0\n",
       "exile         0\n",
       "dtype: int64"
      ]
     },
     "execution_count": 6,
     "metadata": {},
     "output_type": "execute_result"
    }
   ],
   "source": [
    "coup_df.isna().sum()"
   ]
  },
  {
   "cell_type": "markdown",
   "metadata": {
    "cell_id": "00015-c3d2fb4e-b3a6-4452-8ac8-4f9ac1b25118",
    "deepnote_cell_type": "markdown",
    "tags": []
   },
   "source": [
    "## Preliminary Visuals\n",
    "This will analyze the predictors that were selected and tested from the model selection. We will do multiple methods of evaluating these predictors and their affect on the response variable. This will include plotting how each predictor's presence impacted the outcome of the coup. This can also help use reduce the list of predictors if we see any weird plots."
   ]
  },
  {
   "cell_type": "markdown",
   "metadata": {
    "cell_id": "00016-b782e0b6-9bdf-43d1-a4e8-5ac2a905465f",
    "deepnote_cell_type": "markdown",
    "tags": []
   },
   "source": [
    "### Subplots showing the chosen categorical variables vs Event type variable\n",
    "\n",
    "Predictors: ['country','year','military','dissident','rebel','palace', 'foreign','auto','resign','popular','counter', 'other','noharm','injured','killed','arrest',\n",
    " 'jailed','tried','fled','exile']. \n",
    " \n",
    "We are not going to plot coup_id or cowcode because they are unique identifiers to each country. Unrealized will also not be plotted since its the exact opposite as our response. We also removed attempt and consipiracy columns because they are in the event_type variable. We decided to use event type vs realized here because it shows more information as to the types of coups that were attemped and could give insights as to what predictors affect the different types of coups. We also removed unrealized since it is the opposite of realized and is also captured in event type.\n",
    "\n",
    "** Note** for each predictor a 0 indicates the lack or presence whereas a 1 indicates the presence of that variable in a coup, attempt or conspiracy.\n",
    "**Note** Country and Year will be evaluated separated to see what potential information we can find across each country and all years.\n"
   ]
  },
  {
   "cell_type": "code",
   "execution_count": 7,
   "metadata": {
    "cell_id": "00017-8d292de1-989c-43ed-a745-289ae38adc3e",
    "deepnote_cell_type": "code",
    "tags": []
   },
   "outputs": [
    {
     "data": {
      "image/png": "[encoded data removed]",
      "text/plain": [
       "<Figure size 2880x6480 with 18 Axes>"
      ]
     },
     "metadata": {
      "needs_background": "light"
     },
     "output_type": "display_data"
    }
   ],
   "source": [
    "fig, axs = plt.subplots(6,3, figsize = (40, 90))\n",
    "fig.subplots_adjust(hspace = 0.3, wspace = 0.3)\n",
    "axs = axs.flatten()\n",
    "\n",
    "response = coup_df['event_type']\n",
    "predictors = [\"country\",\"year\",\"month\",\"day\",\"military\",\"dissident\",\"rebel\",\n",
    "\"palace\",\"foreign\",\"auto\",\"resign\",\"popular\",\"counter\",\"other\",\"noharm\",\"injured\",\"killed\",\"harrest\"\n",
    ",\"jailed\",\"tried\",\"fled\",\"exile\"]\n",
    "# print(len(predictors))\n",
    "# 22 predictors\n",
    "\n",
    "\n",
    "#this doesn't include country and year. Will do seperate LARGE plot for those\n",
    "plt.suptitle(\"Plot examining the relationship between each predictor and Event Type\", fontsize = 40)\n",
    "\n",
    "for i in range(0,18):\n",
    "    pred = predictors[i+4]\n",
    "    ax = sns.countplot(ax=axs[i], x=predictors[i+4], hue=response, data=coup_df)\n",
    "    axs[i].set_title(f\"Examining relationship between {pred} and Realized\", fontsize = 25)\n",
    "    axs[i].set_ylabel(\"Count\", fontsize = 25)\n",
    "    axs[i].set_xlabel(f\"{pred}\", fontsize = 25)\n",
    "    axs[i].legend([\"Coup\", \"Attempted\", \"Conspiracy\"], fontsize =15)\n",
    "\n",
    "\n"
   ]
  },
  {
   "cell_type": "markdown",
   "metadata": {},
   "source": [
    "## Findings \n",
    "\n",
    "From the graphs, you can see that some variables such as (auto, exile, flex) are skewed towards the lack of presence (0). These variables could potentially introduce correlation or problems with predicting our response variable. We will continue to explore and look at these variables as to how they might impact our dataset and model. We imagine that variables from auto on expose to the model whether or not a coup will be realized or unrealized. \n"
   ]
  },
  {
   "cell_type": "markdown",
   "metadata": {
    "cell_id": "00014-d386bf1c-e071-4c2f-8fa8-de1825ee6c72",
    "deepnote_cell_type": "markdown",
    "tags": []
   },
   "source": [
    "# Exploration of Potential Interests\n",
    "Here we are looking at potential ways we can assess our data. While our goal is to predict or see what potentially influences the success of a coup overall, we can further break down the data to assess whether there are different predictors that are more important in certain scenarios. For example, we can group our data by geographic region or country or time frames. It could be interesting to see if for certain decades or distinguished time frames what predictors are important to a realized coup and how this can change over time. "
   ]
  },
  {
   "cell_type": "markdown",
   "metadata": {
    "cell_id": "00015-d47e4138-c83b-4be5-a3d7-0728ec9d3b07",
    "deepnote_cell_type": "markdown",
    "tags": []
   },
   "source": [
    "### Exploring the Success of each Country in the data\n",
    "In this section, we will create a dictionary that will hold the count of the amount of each country's sucessful coups, attempts, conspiracies. This will be called our success dictionary. The data is a dictionary that has the countries name with associated [coups, attempts, conspiracies] values in a list.\n",
    "\n",
    "Then we will convert the success dictionary into a dataframe and add a column that evaluates a countries success rate. Or the amount of coups over the total amount of coups, attempts, and conspiracies. \n",
    "\n",
    "Instead of plotting all the countries and their rates, we are looking at the countries that have the largest values for each column in the dictionary. This can be some of the countries that we decide to look deeper at when seeing what might cause their success in each of the listed columns. This can help us evaluate the information found in our coup dataset. "
   ]
  },
  {
   "cell_type": "code",
   "execution_count": 8,
   "metadata": {
    "cell_id": "00009-fd864c55-6c8a-4cfb-90ab-b88889cc7909",
    "deepnote_cell_type": "code",
    "deepnote_output_heights": [
     534
    ],
    "deepnote_to_be_reexecuted": false,
    "execution_millis": 46,
    "execution_start": 1638239973979,
    "source_hash": "abf63161",
    "tags": []
   },
   "outputs": [
    {
     "name": "stdout",
     "output_type": "stream",
     "text": [
      "136\n",
      "943\n"
     ]
    }
   ],
   "source": [
    "countries = coup_df.country.unique()\n",
    "print(len(countries))\n",
    "print(len(coup_df))"
   ]
  },
  {
   "cell_type": "code",
   "execution_count": 9,
   "metadata": {
    "cell_id": "00010-fdaf4f4a-30a7-4989-b7be-9fab5dccceef",
    "deepnote_cell_type": "code",
    "deepnote_output_heights": [
     611
    ],
    "deepnote_to_be_reexecuted": false,
    "execution_millis": 92,
    "execution_start": 1638239973981,
    "source_hash": "27d3fced",
    "tags": []
   },
   "outputs": [
    {
     "data": {
      "text/plain": [
       "{'Burkina Faso': [8, 0, 2],\n",
       " 'Burundi': [8, 6, 1],\n",
       " 'Chad': [4, 7, 3],\n",
       " 'Egypt': [6, 1, 6],\n",
       " 'Fiji': [4, 1, 0],\n",
       " 'Guinea': [2, 5, 2],\n",
       " 'Guinea-Bissau': [4, 6, 3],\n",
       " 'Honduras': [7, 3, 0],\n",
       " 'Lesotho': [5, 4, 1],\n",
       " 'Madagascar': [4, 5, 1],\n",
       " 'Maldives': [1, 2, 1],\n",
       " 'Mali': [3, 3, 4],\n",
       " 'Mauritania': [6, 3, 3],\n",
       " 'Niger': [4, 2, 3],\n",
       " 'Papua New Guinea': [0, 2, 0],\n",
       " 'Sudan': [8, 9, 11],\n",
       " 'Thailand': [11, 4, 4],\n",
       " 'Ukraine': [1, 0, 0],\n",
       " 'Algeria': [7, 2, 0],\n",
       " 'East Timor': [0, 1, 0],\n",
       " 'Gabon': [2, 1, 0],\n",
       " 'Gambia': [1, 3, 1],\n",
       " 'Nigeria': [7, 2, 6],\n",
       " 'South Sudan': [0, 1, 0],\n",
       " 'Tunisia': [3, 0, 2],\n",
       " 'Venezuela': [4, 14, 3],\n",
       " 'Yemen': [1, 1, 0],\n",
       " 'Zimbabwe': [1, 1, 3],\n",
       " 'Kyrgyzstan': [1, 0, 0],\n",
       " 'Armenia': [0, 1, 0],\n",
       " 'Laos': [7, 4, 1],\n",
       " 'Libya': [2, 5, 1],\n",
       " 'Montenegro': [0, 0, 1],\n",
       " 'Turkey': [4, 3, 1],\n",
       " 'Ivory Coast': [0, 0, 1],\n",
       " 'Eritrea': [0, 1, 0],\n",
       " 'Democratic Republic of the Congo': [3, 6, 0],\n",
       " 'Philippines': [2, 8, 3],\n",
       " 'Georgia': [2, 0, 2],\n",
       " 'Ethiopia': [7, 2, 1],\n",
       " 'Bahrain': [0, 0, 1],\n",
       " 'Bangladesh': [5, 3, 1],\n",
       " 'Afghanistan': [8, 2, 1],\n",
       " 'Albania': [0, 1, 1],\n",
       " 'Angola': [1, 1, 0],\n",
       " 'Argentina': [9, 11, 4],\n",
       " 'Azerbaijan': [2, 2, 1],\n",
       " 'Benin': [6, 3, 1],\n",
       " 'Bolivia': [16, 17, 4],\n",
       " 'Brazil': [5, 2, 0],\n",
       " 'Bulgaria': [1, 0, 0],\n",
       " 'Cambodia': [4, 3, 0],\n",
       " 'Cameroon': [0, 1, 0],\n",
       " 'Central African Republic': [5, 4, 0],\n",
       " 'Chile': [1, 1, 3],\n",
       " 'China': [3, 1, 0],\n",
       " 'Colombia': [2, 2, 1],\n",
       " 'Comoros': [6, 3, 0],\n",
       " 'Congo': [7, 6, 2],\n",
       " 'Costa Rica': [2, 3, 0],\n",
       " \"Cote d'Ivoire\": [2, 3, 1],\n",
       " 'Cuba': [2, 4, 2],\n",
       " 'Cyprus': [1, 0, 0],\n",
       " 'Czechoslovakia': [4, 0, 4],\n",
       " 'Djibouti': [0, 0, 1],\n",
       " 'Dominica': [0, 0, 0],\n",
       " 'Dominican Republic': [5, 4, 0],\n",
       " 'Ecuador': [8, 7, 0],\n",
       " 'Ecudaor': [0, 1, 0],\n",
       " 'El Salvador': [6, 1, 1],\n",
       " 'Equatorial Guinea': [1, 2, 1],\n",
       " 'German Democratic Republic': [3, 1, 0],\n",
       " 'Ghana': [5, 5, 3],\n",
       " 'Greece': [2, 3, 1],\n",
       " 'Grenada': [4, 0, 0],\n",
       " 'Guatemala': [6, 9, 2],\n",
       " 'Guyana': [0, 0, 1],\n",
       " 'Haiti': [15, 8, 1],\n",
       " 'Hungary': [4, 0, 2],\n",
       " 'Indonesia': [2, 4, 1],\n",
       " 'Iran': [4, 2, 3],\n",
       " 'Iraq': [4, 12, 1],\n",
       " 'Italy': [0, 0, 2],\n",
       " 'Jamaica': [0, 0, 1],\n",
       " 'Jordan': [0, 2, 2],\n",
       " 'Kenya': [0, 1, 0],\n",
       " 'Kyrgyz Republic': [1, 0, 0],\n",
       " 'Lebanon': [0, 3, 0],\n",
       " 'Liberia': [4, 5, 4],\n",
       " 'Luxembourg': [0, 0, 1],\n",
       " 'Malawi': [0, 0, 1],\n",
       " 'Malaysia': [1, 0, 2],\n",
       " 'Mexico': [0, 0, 1],\n",
       " 'Mongolia': [2, 0, 0],\n",
       " 'Morocco': [0, 2, 1],\n",
       " 'Mozambique': [0, 1, 1],\n",
       " 'Myanmar': [5, 1, 1],\n",
       " 'Nepal': [3, 0, 0],\n",
       " 'Nicaragua': [2, 3, 1],\n",
       " 'Oman': [1, 0, 1],\n",
       " 'Pakistan': [6, 1, 1],\n",
       " 'Panama': [8, 3, 5],\n",
       " 'Paraguay': [6, 7, 1],\n",
       " 'Peru': [6, 5, 0],\n",
       " 'Poland': [2, 0, 0],\n",
       " 'Portugal': [3, 4, 2],\n",
       " 'Qatar': [2, 1, 0],\n",
       " 'Republic of Korea': [5, 1, 2],\n",
       " 'Republic of Vietnam': [7, 2, 0],\n",
       " 'Rumania': [3, 0, 0],\n",
       " 'Russia': [1, 1, 0],\n",
       " 'Rwanda': [2, 0, 1],\n",
       " 'Sao Tome and Principe': [2, 0, 0],\n",
       " 'Senegal': [0, 1, 0],\n",
       " 'Serbia': [1, 0, 0],\n",
       " 'Seychelles': [1, 1, 1],\n",
       " 'Sierra Leone': [7, 5, 2],\n",
       " 'Somalia': [2, 3, 2],\n",
       " 'Spain': [0, 1, 3],\n",
       " 'Sri Lanka': [0, 0, 2],\n",
       " 'Surinam': [3, 4, 3],\n",
       " 'Swaziland': [1, 0, 2],\n",
       " 'Syria': [13, 3, 5],\n",
       " 'Tajikistan': [3, 2, 0],\n",
       " 'Tanzania': [0, 1, 2],\n",
       " 'Togo': [4, 7, 4],\n",
       " 'Trinidad and Tobago': [0, 2, 0],\n",
       " 'Turkmenistan': [0, 0, 1],\n",
       " 'Uganda': [6, 3, 3],\n",
       " 'United Arab Emirates': [0, 1, 0],\n",
       " 'United States of America': [0, 0, 1],\n",
       " 'Uruguay': [3, 0, 0],\n",
       " 'USSR': [2, 0, 0],\n",
       " 'Yemen Arab Republic': [3, 3, 0],\n",
       " 'Yemen PDR': [4, 2, 0],\n",
       " 'Zambia': [0, 2, 3]}"
      ]
     },
     "execution_count": 9,
     "metadata": {},
     "output_type": "execute_result"
    }
   ],
   "source": [
    "success_dict = {}\n",
    "\n",
    "for i in countries:\n",
    "    success_dict[i] = [0,0,0]\n",
    "\n",
    "for j in range(len(coup_df)):\n",
    "    if coup_df.realized[j] == 1:\n",
    "        success_dict[coup_df.country[j]][0] += 1\n",
    "    if coup_df.attempt[j] == 1:\n",
    "        success_dict[coup_df.country[j]][1] += 1\n",
    "    if coup_df.conspiracy[j] == 1:\n",
    "        success_dict[coup_df.country[j]][2] += 1\n",
    "\n",
    "\n",
    "success_dict "
   ]
  },
  {
   "cell_type": "code",
   "execution_count": 10,
   "metadata": {
    "cell_id": "00018-b8a7326d-ed31-4bc6-bce0-2dbd8e65cf64",
    "deepnote_cell_type": "code",
    "deepnote_to_be_reexecuted": false,
    "execution_millis": 48,
    "execution_start": 1638239974081,
    "source_hash": "134a2fe",
    "tags": []
   },
   "outputs": [
    {
     "data": {
      "text/html": [
       "<div>\n",
       "<style scoped>\n",
       "    .dataframe tbody tr th:only-of-type {\n",
       "        vertical-align: middle;\n",
       "    }\n",
       "\n",
       "    .dataframe tbody tr th {\n",
       "        vertical-align: top;\n",
       "    }\n",
       "\n",
       "    .dataframe thead th {\n",
       "        text-align: right;\n",
       "    }\n",
       "</style>\n",
       "<table border=\"1\" class=\"dataframe\">\n",
       "  <thead>\n",
       "    <tr style=\"text-align: right;\">\n",
       "      <th></th>\n",
       "      <th>Coups</th>\n",
       "      <th>Attempts</th>\n",
       "      <th>Conspiracies</th>\n",
       "      <th>Success_rate</th>\n",
       "    </tr>\n",
       "  </thead>\n",
       "  <tbody>\n",
       "    <tr>\n",
       "      <th>Burkina Faso</th>\n",
       "      <td>8</td>\n",
       "      <td>0</td>\n",
       "      <td>2</td>\n",
       "      <td>0.80</td>\n",
       "    </tr>\n",
       "    <tr>\n",
       "      <th>Burundi</th>\n",
       "      <td>8</td>\n",
       "      <td>6</td>\n",
       "      <td>1</td>\n",
       "      <td>0.53</td>\n",
       "    </tr>\n",
       "    <tr>\n",
       "      <th>Chad</th>\n",
       "      <td>4</td>\n",
       "      <td>7</td>\n",
       "      <td>3</td>\n",
       "      <td>0.29</td>\n",
       "    </tr>\n",
       "    <tr>\n",
       "      <th>Egypt</th>\n",
       "      <td>6</td>\n",
       "      <td>1</td>\n",
       "      <td>6</td>\n",
       "      <td>0.46</td>\n",
       "    </tr>\n",
       "    <tr>\n",
       "      <th>Fiji</th>\n",
       "      <td>4</td>\n",
       "      <td>1</td>\n",
       "      <td>0</td>\n",
       "      <td>0.80</td>\n",
       "    </tr>\n",
       "  </tbody>\n",
       "</table>\n",
       "</div>"
      ],
      "text/plain": [
       "              Coups  Attempts  Conspiracies  Success_rate\n",
       "Burkina Faso      8         0             2          0.80\n",
       "Burundi           8         6             1          0.53\n",
       "Chad              4         7             3          0.29\n",
       "Egypt             6         1             6          0.46\n",
       "Fiji              4         1             0          0.80"
      ]
     },
     "execution_count": 10,
     "metadata": {},
     "output_type": "execute_result"
    }
   ],
   "source": [
    "country_df = pd.DataFrame.from_dict(success_dict, orient = 'index')\n",
    "columns = country_df.columns = [\"Coups\", \"Attempts\", \"Conspiracies\"]\n",
    "rate_success = round(country_df['Coups']/(country_df.sum(axis = 1)),2)\n",
    "country_df[\"Success_rate\"] = rate_success\n",
    "names = country_df.index\n",
    "country_df.head()"
   ]
  },
  {
   "cell_type": "code",
   "execution_count": 11,
   "metadata": {
    "cell_id": "00019-42bb1060-9373-4f50-be4f-9d52d53d4b5f",
    "deepnote_cell_type": "code",
    "deepnote_to_be_reexecuted": false,
    "execution_millis": 47,
    "execution_start": 1638239974083,
    "source_hash": "c8e03839",
    "tags": []
   },
   "outputs": [
    {
     "name": "stdout",
     "output_type": "stream",
     "text": [
      "Country with most conspiracies at 11:  Sudan\n",
      "Country with most attempts at 17: Bolivia\n",
      "Country with most Coups at 16:  Bolivia\n",
      "Country with the best success rate at 1.0 Ukraine\n"
     ]
    }
   ],
   "source": [
    "most_coups = country_df['Coups'].idxmax()\n",
    "most_attempts = country_df['Attempts'].idxmax()\n",
    "most_consp = country_df['Conspiracies'].idxmax()\n",
    "best_rate = country_df['Success_rate'].idxmax()\n",
    "\n",
    "print(f\"Country with most conspiracies at {country_df['Conspiracies'].max()}: \",most_consp) \n",
    "print(f\"Country with most attempts at {country_df['Attempts'].max()}:\", most_attempts) \n",
    "print(f\"Country with most Coups at {country_df['Coups'].max()}: \", most_coups)\n",
    "print(f\"Country with the best success rate at {country_df['Success_rate'].max()}\", best_rate) \n"
   ]
  },
  {
   "cell_type": "code",
   "execution_count": 12,
   "metadata": {
    "cell_id": "00020-9a488742-e983-45e6-809f-f4c2dcc5769d",
    "deepnote_cell_type": "code",
    "deepnote_output_heights": [
     null,
     335
    ],
    "deepnote_to_be_reexecuted": false,
    "execution_millis": 663,
    "execution_start": 1638239974097,
    "source_hash": "335da3a7",
    "tags": []
   },
   "outputs": [
    {
     "name": "stderr",
     "output_type": "stream",
     "text": [
      "<ipython-input-12-5faff680ea2b>:12: UserWarning: FixedFormatter should only be used together with FixedLocator\n",
      "  axs[i].set_xticklabels(['','Coups', 'Attempts', 'Conspiracies', 'Success Rate'], rotation = 'vertical')\n"
     ]
    },
    {
     "data": {
      "image/png": "[encoded data removed]",
      "text/plain": [
       "<Figure size 1080x288 with 3 Axes>"
      ]
     },
     "metadata": {
      "needs_background": "light"
     },
     "output_type": "display_data"
    }
   ],
   "source": [
    "fig, axs = plt.subplots(1,3, figsize = (15, 4))\n",
    "fig.subplots_adjust(hspace = 0.3, wspace = 0.3)\n",
    "axs = axs.flatten()\n",
    "\n",
    "ind = [0,1,2,3]\n",
    "countries_plot = ['Sudan', 'Bolivia', 'Ukraine']\n",
    "plt.suptitle(\"Plot looking at the counts of event types for countries with max values in each predictor\", fontsize = 12)\n",
    "for i in range(0,3):\n",
    "    axs[i].bar(ind,country_df.loc[countries_plot[i]])\n",
    "    axs[i].set_title(countries_plot[i])\n",
    "    axs[i].set_ylabel(\"Count\")\n",
    "    axs[i].set_xticklabels(['','Coups', 'Attempts', 'Conspiracies', 'Success Rate'], rotation = 'vertical')"
   ]
  },
  {
   "cell_type": "markdown",
   "metadata": {
    "cell_id": "00021-e0277a1c-1f70-431e-ba09-b7884bc04110",
    "deepnote_cell_type": "markdown",
    "tags": []
   },
   "source": [
    "### Now we are going to run a similar process for Year\n",
    "First, I will create a dictionary to store all the coups, attempts and conspiracies for each year. Then I will convert it into a panda's data frame to further look at the data and create a success rate. "
   ]
  },
  {
   "cell_type": "code",
   "execution_count": 13,
   "metadata": {
    "cell_id": "00021-3a7b961a-559c-4de3-8e3f-bf3502c3256f",
    "deepnote_cell_type": "code",
    "deepnote_output_heights": [
     21
    ],
    "deepnote_to_be_reexecuted": false,
    "execution_millis": 41,
    "execution_start": 1638239974763,
    "source_hash": "dbbfe7d0",
    "tags": []
   },
   "outputs": [
    {
     "data": {
      "text/plain": [
       "74"
      ]
     },
     "execution_count": 13,
     "metadata": {},
     "output_type": "execute_result"
    }
   ],
   "source": [
    "year = list(coup_df.year.unique())\n",
    "len(year) "
   ]
  },
  {
   "cell_type": "code",
   "execution_count": 14,
   "metadata": {
    "cell_id": "00023-14521ab0-d205-4ceb-b5a2-46371483fc21",
    "deepnote_cell_type": "code",
    "deepnote_to_be_reexecuted": false,
    "execution_millis": 43,
    "execution_start": 1638239974764,
    "source_hash": "bda54023",
    "tags": []
   },
   "outputs": [],
   "source": [
    "year_dict = {}\n",
    "\n",
    "for i in year:\n",
    "    year_dict[i] = [0,0,0]\n",
    "\n",
    "for j in range(len(coup_df)):\n",
    "    if coup_df.realized[j] == 1:\n",
    "        year_dict[coup_df.year[j]][0] += 1\n",
    "    if coup_df.attempt[j] == 1:\n",
    "        year_dict[coup_df.year[j]][1] += 1\n",
    "    if coup_df.conspiracy[j] == 1:\n",
    "        year_dict[coup_df.year[j]][2] += 1"
   ]
  },
  {
   "cell_type": "code",
   "execution_count": 15,
   "metadata": {
    "cell_id": "00024-46d79c4b-6a9a-4e8e-acd7-c47cb4e5b4f9",
    "deepnote_cell_type": "code",
    "deepnote_to_be_reexecuted": false,
    "execution_millis": 127,
    "execution_start": 1638239974912,
    "source_hash": "1ee8c457",
    "tags": []
   },
   "outputs": [
    {
     "data": {
      "text/html": [
       "<div>\n",
       "<style scoped>\n",
       "    .dataframe tbody tr th:only-of-type {\n",
       "        vertical-align: middle;\n",
       "    }\n",
       "\n",
       "    .dataframe tbody tr th {\n",
       "        vertical-align: top;\n",
       "    }\n",
       "\n",
       "    .dataframe thead th {\n",
       "        text-align: right;\n",
       "    }\n",
       "</style>\n",
       "<table border=\"1\" class=\"dataframe\">\n",
       "  <thead>\n",
       "    <tr style=\"text-align: right;\">\n",
       "      <th></th>\n",
       "      <th>Coups</th>\n",
       "      <th>Attempts</th>\n",
       "      <th>Conspiracies</th>\n",
       "      <th>Success_rate</th>\n",
       "    </tr>\n",
       "  </thead>\n",
       "  <tbody>\n",
       "    <tr>\n",
       "      <th>2014</th>\n",
       "      <td>3</td>\n",
       "      <td>3</td>\n",
       "      <td>0</td>\n",
       "      <td>0.5</td>\n",
       "    </tr>\n",
       "    <tr>\n",
       "      <th>2015</th>\n",
       "      <td>2</td>\n",
       "      <td>1</td>\n",
       "      <td>2</td>\n",
       "      <td>0.4</td>\n",
       "    </tr>\n",
       "    <tr>\n",
       "      <th>2006</th>\n",
       "      <td>2</td>\n",
       "      <td>2</td>\n",
       "      <td>6</td>\n",
       "      <td>0.2</td>\n",
       "    </tr>\n",
       "    <tr>\n",
       "      <th>2011</th>\n",
       "      <td>2</td>\n",
       "      <td>2</td>\n",
       "      <td>1</td>\n",
       "      <td>0.4</td>\n",
       "    </tr>\n",
       "    <tr>\n",
       "      <th>2013</th>\n",
       "      <td>1</td>\n",
       "      <td>3</td>\n",
       "      <td>1</td>\n",
       "      <td>0.2</td>\n",
       "    </tr>\n",
       "  </tbody>\n",
       "</table>\n",
       "</div>"
      ],
      "text/plain": [
       "      Coups  Attempts  Conspiracies  Success_rate\n",
       "2014      3         3             0           0.5\n",
       "2015      2         1             2           0.4\n",
       "2006      2         2             6           0.2\n",
       "2011      2         2             1           0.4\n",
       "2013      1         3             1           0.2"
      ]
     },
     "execution_count": 15,
     "metadata": {},
     "output_type": "execute_result"
    }
   ],
   "source": [
    "year_df = pd.DataFrame.from_dict(year_dict, orient = 'index')\n",
    "columns = year_df.columns = [\"Coups\", \"Attempts\", \"Conspiracies\"]\n",
    "rate_success = round(year_df['Coups']/(year_df.sum(axis = 1)),2)\n",
    "year_df[\"Success_rate\"] = rate_success\n",
    "names = year_df.index\n",
    "year_df.head()"
   ]
  },
  {
   "cell_type": "code",
   "execution_count": 16,
   "metadata": {
    "cell_id": "00025-f3b6736b-9de7-4032-9efa-2a03cc196b9f",
    "deepnote_cell_type": "code",
    "deepnote_to_be_reexecuted": false,
    "execution_millis": 1,
    "execution_start": 1638239975000,
    "source_hash": "d1f8a0c5",
    "tags": []
   },
   "outputs": [
    {
     "name": "stdout",
     "output_type": "stream",
     "text": [
      "Year with most conspiracies at 7:  1962\n",
      "Year with most attempts at 12: 1977\n",
      "Year with most Coups at 18:  1979\n",
      "Year with the best success rate at 1.0: 1945\n"
     ]
    }
   ],
   "source": [
    "most_coups_yr = year_df['Coups'].idxmax()\n",
    "most_attempts_yr = year_df['Attempts'].idxmax()\n",
    "most_consp_yr = year_df['Conspiracies'].idxmax()\n",
    "best_rate_yr = year_df['Success_rate'].idxmax()\n",
    "\n",
    "print(f\"Year with most conspiracies at {year_df['Conspiracies'].max()}: \",most_consp_yr) \n",
    "print(f\"Year with most attempts at {year_df['Attempts'].max()}:\", most_attempts_yr) \n",
    "print(f\"Year with most Coups at {year_df['Coups'].max()}: \", most_coups_yr)\n",
    "print(f\"Year with the best success rate at {year_df['Success_rate'].max()}:\", best_rate_yr) "
   ]
  },
  {
   "cell_type": "code",
   "execution_count": 17,
   "metadata": {
    "cell_id": "00026-83b5cfa4-ea65-4ee1-8c00-66388da3ab97",
    "deepnote_cell_type": "code",
    "deepnote_output_heights": [
     null,
     335
    ],
    "deepnote_to_be_reexecuted": false,
    "execution_millis": 842,
    "execution_start": 1638239975002,
    "source_hash": "462651b1",
    "tags": []
   },
   "outputs": [
    {
     "name": "stderr",
     "output_type": "stream",
     "text": [
      "<ipython-input-17-ac24d438d480>:12: UserWarning: FixedFormatter should only be used together with FixedLocator\n",
      "  axs[i].set_xticklabels(['','Coups', 'Attempts', 'Conspiracies', 'Success Rate'], rotation = 'vertical')\n"
     ]
    },
    {
     "data": {
      "image/png": "[encoded data removed]",
      "text/plain": [
       "<Figure size 1080x288 with 4 Axes>"
      ]
     },
     "metadata": {
      "needs_background": "light"
     },
     "output_type": "display_data"
    }
   ],
   "source": [
    "fig, axs = plt.subplots(1,4, figsize = (15, 4))\n",
    "fig.subplots_adjust(hspace = 0.5, wspace = 0.3)\n",
    "axs = axs.flatten()\n",
    "\n",
    "ind = [0,1,2,3]\n",
    "year_plot = [1962, 1977, 1979, 1945]\n",
    "plt.suptitle(\"Plot looking at the counts of event types for years with max values in each predictor\", fontsize = 12)\n",
    "for i in range(0,4):\n",
    "    axs[i].bar(ind,year_df.loc[year_plot[i]])\n",
    "    axs[i].set_title(year_plot[i])\n",
    "    axs[i].set_ylabel(\"Count\")\n",
    "    axs[i].set_xticklabels(['','Coups', 'Attempts', 'Conspiracies', 'Success Rate'], rotation = 'vertical')"
   ]
  },
  {
   "cell_type": "markdown",
   "metadata": {
    "cell_id": "00020-d0b5af38-fae5-4c34-85db-a1a49836821b",
    "deepnote_cell_type": "markdown",
    "tags": []
   },
   "source": [
    "# Model selection:\n",
    "\n",
    "In this section we are trying to answer the question of: what are the relevant variables? What are the relevant variables to predict the success (`realized` variable) of a coup?\n",
    "\n",
    "We will try to use Lasso as also our own understanding of the variables for which are best to select or not: according to lasso, which variables are more relevant to predict the success of a coup or not? Do we agree with this selection?\n",
    "\n",
    "## Lasso\n",
    "\n",
    "To aid our model-selection process, we will use Lasso. Lasso (L1 penalization) can be used as model selection instrument, because it's penalization term can send predictor coefficients to 0. \n",
    "\n",
    "$$ L1 = \\lambda \\sum_{j=0}^{M}|W_j|$$\n",
    "\n",
    "The predictors' coefficients that are 0 show that those predictors are not significant, according to lasso, thereby doing model selection. "
   ]
  },
  {
   "cell_type": "markdown",
   "metadata": {
    "cell_id": "00024-839e8956-7618-4910-8465-bae57c11ea00",
    "deepnote_cell_type": "markdown",
    "tags": []
   },
   "source": [
    "### Variables pre-selection before applying Lasso\n",
    "\n",
    "Before even doing my model selection with Lasso, I am dropping:\n",
    "\n",
    "- `country`: because it is a string, and because the `cowcode` already includes this information where each country has a code\n",
    "- `coup_id`: because it is a code, it is a unique string id to each single different coup\n",
    "- `event_type`: because it is already included in the columns `unrealised`, `realised`, `conspiracy`, `attempt`\n",
    "- `unrealised`: because it is the opposite of realised. Unrealised is a linear combination of the `realised` column. Consequently, they both explain the same. Which means that including this in my x matrix as a predictor would be 'cheating' in my prediction. Hence this will be dropped. "
   ]
  },
  {
   "cell_type": "markdown",
   "metadata": {},
   "source": [
    "## Exploration of potentially problematic predictors\n",
    "\n",
    "Based off of the definition of these predictors from the codebook, we think that certain predictors might give away the response. For example, killed has the description \"A dummy variable where one indicates the deposed executive was killed during the coup event and zero otherwise.\" This essentially means that there was a coup because the executive was removed. We plan to create a sub-dataframe to look at only successful coups and see what the means are of these predictors. The mean will show us how prevelant each predictor in relation to success. We plan to remove these predictors in further EDA exploration for this milestone and for creating our baseline model. \n",
    "\n",
    "For the final project, we can do deeper analysis of these terms to see how they affect our model or if we can use them for interaction terms. We can even see what happens when we do add these to our model or use other methods to explore what these mean.\n",
    "\n",
    "List of Potentially problematic predictors and their variables:\n",
    "- `auto` - A dummy variable where one indicates an auto coup and zero otherwise.\n",
    "- `resign` - A dummy variable where one indicates a forced resignation and zero otherwise\n",
    "- `popular` - A dummy variable where one indicates a popular revolt and zero otherwise.\n",
    "- `counter` - A dummy variable where one indicates a counter-coup and zero otherwise.\n",
    "- `other` - A dummy variable where one indicates the coup event does not fit into any of the above categories or the actors were not identified and zero otherwise.\n",
    "- `noharm` - A dummy variable where one indicates the deposed executive was not harmed during the coup event and zero otherwise.\n",
    "- `injured` - A dummy variable where one indicates the deposed executive was injured during the coup event and zero otherwise.\n",
    "- `killed` -  A dummy variable where one indicates the deposed executive was killed during the coup event and zero otherwise.\n",
    "- `harrest` - A dummy variable where one indicates the deposed executive was placed under house arrest and zero otherwise.\n",
    "- `jailed` -  A dummy variable where one indicates the deposed executive was jailed and zero otherwise.\n",
    "- `tried` - A dummy variable where one indicates the deposed executive was tried and zero otherwise.\n",
    "- `fled` - A dummy variable where one indicates the deposed executive fled the country and zero otherwise.\n",
    "- `exile` - A dummy variable where one indicate the deposed executive was banished from the country and zero otherwise."
   ]
  },
  {
   "cell_type": "code",
   "execution_count": 18,
   "metadata": {},
   "outputs": [
    {
     "name": "stdout",
     "output_type": "stream",
     "text": [
      "Mean value for the Predictors & only pulling when the coup was successful\n",
      "auto 0.063\n",
      "resign 0.155\n",
      "popular 0.183\n",
      "kill 0.589\n",
      "exile 0.106\n",
      "injured 0.005\n",
      "noharm 0.908\n",
      "harrest 0.075\n",
      "counter 0.031\n",
      "other 0.0\n",
      "jailed 0.11\n",
      "tried 0.021\n",
      "fled 0.169\n"
     ]
    }
   ],
   "source": [
    "success_df = coup_df[coup_df['realized']==1 ]\n",
    "kill = success_df['military'].mean()\n",
    "exile = success_df['exile'].mean()\n",
    "injured = success_df['injured'].mean()\n",
    "noharm = success_df['noharm'].mean()\n",
    "harrest = success_df['harrest'].mean()\n",
    "jailed = success_df['jailed'].mean()\n",
    "tried = success_df['tried'].mean()\n",
    "fled = success_df['fled'].mean()\n",
    "auto = success_df['auto'].mean()\n",
    "resign = success_df['resign'].mean()\n",
    "popular = success_df['popular'].mean()\n",
    "counter = success_df['counter'].mean()\n",
    "other = success_df['other'].mean()\n",
    "correl_list = [auto, resign, popular, kill, exile, injured, noharm,harrest,\n",
    "counter, other, jailed,tried,fled]\n",
    "names =['auto','resign', 'popular','kill', 'exile', 'injured', 'noharm','harrest',\n",
    "'counter','other','jailed','tried','fled']\n",
    "\n",
    "print(\"Mean value for the Predictors & only pulling when the coup was successful\")\n",
    "for i,val in enumerate(correl_list):\n",
    "    print(names[i], round(val,3))\n",
    "    "
   ]
  },
  {
   "cell_type": "code",
   "execution_count": 21,
   "metadata": {
    "cell_id": "00020-1e9b8729-ccbd-4ea9-b2ee-7c167cff6ed6",
    "deepnote_cell_type": "code",
    "deepnote_output_heights": [
     null,
     453.75
    ],
    "deepnote_to_be_reexecuted": false,
    "execution_millis": 537,
    "execution_start": 1638239975883,
    "source_hash": "219ef775",
    "tags": []
   },
   "outputs": [],
   "source": [
    "coup_df_selected = coup_df.copy()\n",
    "\n",
    "coup_df_selected = coup_df_selected.drop(columns = ['country', 'coup_id', 'event_type', 'unrealized'])\n",
    "\n",
    "y = coup_df_selected['realized']\n",
    "x = coup_df_selected.drop(columns = 'realized')\n",
    "#print(\"x shape\", x.shape)\n",
    "#print(\"y shape\", y.shape)\n",
    "#print(\"total df shape\", coup_df.shape)\n",
    "#print(\"total df shape\", coup_df_selected.shape)\n",
    "predictors_list = x.columns.values.tolist()\n",
    "\n",
    "# len(predictors)\n",
    "# predictors"
   ]
  },
  {
   "cell_type": "code",
   "execution_count": null,
   "metadata": {
    "cell_id": "00021-d7110e90-03ba-4099-b5a6-403470aba99f",
    "deepnote_cell_type": "code",
    "deepnote_output_heights": [
     21
    ],
    "deepnote_to_be_reexecuted": true,
    "execution_millis": 5,
    "execution_start": 1638232378641,
    "source_hash": "113fc51a",
    "tags": []
   },
   "outputs": [],
   "source": [
    "'''cowcode_dict = pd.Series(coup_df.cowcode.values,index=coup_df.country).to_dict()\n",
    "print(len(cowcode_dict))\n",
    "\n",
    "def unique(list1):\n",
    "    x = np.array(list1)\n",
    "    return (np.unique(x))\n",
    "\n",
    "missing_countries = [country for country in coup_df.country.values]\n",
    "print(len(unique(missing_countries)))'''"
   ]
  },
  {
   "cell_type": "markdown",
   "metadata": {
    "cell_id": "00021-5bdb3306-32a0-403b-b33b-a94035bb9bae",
    "deepnote_cell_type": "markdown",
    "tags": []
   },
   "source": [
    "### Cowcodes and countries"
   ]
  },
  {
   "cell_type": "code",
   "execution_count": null,
   "metadata": {
    "cell_id": "00021-399054b2-6768-412e-aeee-cfe3e4942e04",
    "deepnote_cell_type": "code",
    "deepnote_output_heights": [
     20.8125
    ],
    "deepnote_to_be_reexecuted": true,
    "execution_millis": 7,
    "execution_start": 1638232378656,
    "source_hash": "9626388d",
    "tags": []
   },
   "outputs": [],
   "source": [
    "coup_df['cowcode'].unique\n",
    "cowcodes_countries = pd.DataFrame()\n",
    "cowcodes_countries['country'] = coup_df['country']\n",
    "cowcodes_countries['cowcode'] = coup_df['cowcode']\n",
    "cowcodes_countries.shape\n",
    "cowcodes_countries = cowcodes_countries.drop_duplicates(subset=['cowcode'])\n",
    "print(f\"We have {cowcodes_countries.shape[0]} cowcodes.\")\n",
    "\n",
    "\n",
    "#coup_df['cowcode'].unique\n",
    "#cowcodes_countries = pd.DataFrame()\n",
    "#cowcodes_countries['country'] = coup_df['country']\n",
    "#cowcodes_countries['cowcode'] = coup_df['cowcode']\n",
    "#cowcodes_countries = cowcodes_countries.drop_duplicates(subset=['cowcode'])\n",
    "#cowcodes_countries"
   ]
  },
  {
   "cell_type": "markdown",
   "metadata": {
    "cell_id": "00022-7c8f538a-f913-411e-897b-ea6d400bcacd",
    "deepnote_cell_type": "markdown",
    "tags": []
   },
   "source": [
    "We have 136 countries and 134 cowcodes. Although a couple of cowcodes refers to more than 1 country, we will will use cowcodes to refer to countries, because it wouldn't be efficient to create dummy variables for 136 countries as we have already a way to encode countries through the cowcodes. Hence we will keep cowcodes as variable to indicate the country."
   ]
  },
  {
   "cell_type": "markdown",
   "metadata": {
    "cell_id": "00024-bbda8980-bcba-4944-81c3-3da4b585ba2d",
    "deepnote_cell_type": "markdown",
    "tags": []
   },
   "source": [
    "### Here we start applying Lasso.\n",
    "\n",
    "* first, we do train/test split\n",
    "* then we cross validate to find the best hyper paramenter lambda\n",
    "* then we apply Lasso and check the coefficients with `.coef_` and check which ones were sent to 0"
   ]
  },
  {
   "cell_type": "code",
   "execution_count": null,
   "metadata": {
    "cell_id": "00021-6e939f96-4e0a-4fa7-931e-ca3549b787e3",
    "deepnote_cell_type": "code",
    "deepnote_output_heights": [
     21.1875
    ],
    "deepnote_to_be_reexecuted": true,
    "execution_millis": 2,
    "execution_start": 1638232378709,
    "source_hash": "65616b18",
    "tags": []
   },
   "outputs": [],
   "source": [
    "x_train, x_test, y_train, y_test = train_test_split(x, y, train_size=0.7, random_state=31)\n",
    "\n",
    "print(x_train.shape)\n",
    "print(y_train.shape)"
   ]
  },
  {
   "cell_type": "code",
   "execution_count": null,
   "metadata": {
    "cell_id": "00022-eb785d59-d75b-42c2-bc0b-e6417878f836",
    "deepnote_cell_type": "code",
    "deepnote_output_heights": [
     21.1875
    ],
    "deepnote_to_be_reexecuted": true,
    "execution_millis": 6040,
    "execution_start": 1638232378710,
    "source_hash": "5b4d7a6e",
    "tags": []
   },
   "outputs": [],
   "source": [
    "from sklearn.linear_model import Lasso\n",
    "from sklearn.metrics import mean_squared_error\n",
    "from sklearn.linear_model import LinearRegression\n",
    "from sklearn.model_selection import cross_validate\n",
    "from sklearn.model_selection import train_test_split\n",
    "\n",
    "\n",
    "# cross validating to find the best hyperparameter lambda\n",
    "cross_validation_error = []\n",
    "#lambda_list = np.linspace(0.00001, 0.0001, 0.001, 0.01)\n",
    "lambda_list = np.logspace(0.00001, 1, 20)\n",
    "print(lambda_list)\n",
    "\n",
    "for lam in lambda_list:\n",
    "    lasso_reg = Lasso(alpha=lam)\n",
    "    lasso_reg.fit(x_train, y_train)\n",
    "\n",
    "    mse_score = cross_validate(lasso_reg, x_train,y_train, scoring =\n",
    "     \"neg_mean_squared_error\", cv = 10, return_train_score= False) #false\n",
    "\n",
    "    cross_validation_error.append(mse_score[\"test_score\"].mean()*-1) #we need positive numbers, this is the validation score\n",
    "\n"
   ]
  },
  {
   "cell_type": "code",
   "execution_count": null,
   "metadata": {
    "cell_id": "00026-0e145ffc-da23-4599-9bda-e1b951ad78c2",
    "deepnote_cell_type": "code",
    "deepnote_output_heights": [
     21.1875,
     21.1875
    ],
    "deepnote_to_be_reexecuted": true,
    "execution_millis": 11,
    "execution_start": 1638227209548,
    "source_hash": "2688835d",
    "tags": []
   },
   "outputs": [],
   "source": [
    "\n",
    "min_cross_val_mse = min(cross_validation_error)\n",
    "best_cross_val_lambda_index = cross_validation_error.index(min_cross_val_mse)\n",
    "best_cross_val_lambda = lambda_list[best_cross_val_lambda_index]\n"
   ]
  },
  {
   "cell_type": "code",
   "execution_count": null,
   "metadata": {
    "cell_id": "00026-88176912-8bb3-4982-9810-3c82bdda6ddf",
    "deepnote_cell_type": "code",
    "deepnote_output_heights": [
     611
    ],
    "deepnote_to_be_reexecuted": true,
    "execution_millis": 5,
    "execution_start": 1638227209562,
    "source_hash": "a5e5bc",
    "tags": []
   },
   "outputs": [],
   "source": [
    "#coup_df.corr()\n"
   ]
  },
  {
   "cell_type": "code",
   "execution_count": null,
   "metadata": {
    "cell_id": "00027-e14a222c-c79f-43ce-8d28-2833ac7ef91e",
    "deepnote_cell_type": "code",
    "deepnote_output_heights": [
     114.921875
    ],
    "deepnote_to_be_reexecuted": true,
    "execution_millis": 21,
    "execution_start": 1638227209597,
    "source_hash": "4759c357",
    "tags": []
   },
   "outputs": [],
   "source": [
    "lasso_reg = Lasso(alpha=best_cross_val_lambda)\n",
    "lasso_reg.fit(x_train, y_train)\n",
    "intercept = lasso_reg.intercept_\n",
    "coef = lasso_reg.coef_\n",
    "\n",
    "unselected_predictors = []\n",
    "selected_predictors = []\n",
    "#predictors = [\"country\",\"year\",\"month\",\"day\",\"military\",\"dissident\",\"rebel\",\n",
    "#\"palace\",\"foreign\",\"auto\",\"resign\",\"popular\",\"counter\",\"other\",\"noharm\",\"injured\",\"killed\",\"harrest\"\n",
    "#,\"jailed\",\"tried\",\"fled\",\"exile\"]\n",
    "\n",
    "print(\"These are the predictors that Lasso considered useful:\")\n",
    "print(\"-------------------------------------------------------\")\n",
    "for i in range(len(predictors_list)):\n",
    "    if coef[i] == 0 or coef[i] == -0.000:\n",
    "        unselected_predictors.append(predictors_list[i])\n",
    "    else:\n",
    "\n",
    "        selected_predictors.append(predictors_list[i])\n",
    "        print(f\"{predictors[i]} coefficient: {coef[i]:.5f}\")\n",
    "print(\"-------------------------------------------------------\")\n",
    "print(f\"Intercept: {intercept:.3f}\")\n",
    "print(\"-------------------------------------------------------\")\n",
    "print(f\"These predictors are considered not useful from Lasso: {unselected_predictors}\")\n"
   ]
  },
  {
   "cell_type": "markdown",
   "metadata": {
    "cell_id": "00028-d007130c-e212-4790-aa55-8343928216a3",
    "deepnote_cell_type": "markdown",
    "tags": []
   },
   "source": [
    "### Logistic regression after having considered Lasso\n",
    "\n",
    "Now that Lasso selected the parameters, let's try to apply Logistic regression to the dataset, without `other` and without `noharm`. "
   ]
  },
  {
   "cell_type": "code",
   "execution_count": null,
   "metadata": {
    "cell_id": "00028-3ee9e772-e6cd-4bca-a798-5ea953c2c944",
    "deepnote_cell_type": "code",
    "deepnote_output_heights": [
     null,
     246.6875
    ],
    "deepnote_to_be_reexecuted": true,
    "execution_millis": 108,
    "execution_start": 1638227209630,
    "source_hash": "92be9569",
    "tags": []
   },
   "outputs": [],
   "source": [
    "from sklearn.linear_model import LogisticRegression\n",
    "from sklearn.metrics import accuracy_score\n",
    "\n",
    "x_train_w_o_n = x_train.drop(columns = ['other', 'noharm'])\n",
    "x_test_w_o_n = x_test.drop(columns = ['other', 'noharm'])\n",
    "logistic = LogisticRegression(penalty = 'none', max_iter = 600)\n",
    "logistic.fit(x_train_w_o_n,y_train)\n",
    "logistic.intercept_\n",
    "y_pred_test = logistic.predict(x_test_w_o_n)\n",
    "y_pred_train = logistic.predict(x_train_w_o_n)\n",
    "\n",
    "train_score = accuracy_score(y_train, y_pred_train)*100\n",
    "test_score = accuracy_score(y_test, y_pred_test)*100 \n",
    "\n",
    "\n",
    "print(f\"The training score is {train_score}\")\n",
    "print(f\"The testing score is {test_score}\")"
   ]
  },
  {
   "cell_type": "markdown",
   "metadata": {
    "cell_id": "00030-dd8658c7-504f-42d1-b6fc-4c08ed89af41",
    "deepnote_cell_type": "markdown",
    "tags": []
   },
   "source": [
    "Clearly, we are overfitting to the training dataset, our prediction is a bit too perfect, so what went wrong? Let's continue by trying `LogisticRegressionCV` where `l1` penalization is being already included when doing LogisticRegression. "
   ]
  },
  {
   "cell_type": "code",
   "execution_count": null,
   "metadata": {
    "cell_id": "00029-a1ad56d9-f3ce-4947-b4a8-19f49f372b65",
    "deepnote_cell_type": "code",
    "deepnote_output_heights": [
     null,
     152.578125
    ],
    "deepnote_to_be_reexecuted": true,
    "execution_millis": 323,
    "execution_start": 1638227209754,
    "source_hash": "52f25b90",
    "tags": []
   },
   "outputs": [],
   "source": [
    "Cs = [1e-4, 1e-3, 1e-2, 1e-1, 1e0, 1e1, 1e2, 1e3, 1e4]\n",
    "cv = 10\n",
    "\n",
    "\n",
    "logit_lasso = LogisticRegressionCV(Cs= Cs, cv=cv, penalty='l1', solver='liblinear').fit(x_train, y_train)\n",
    "y_pred_test = logit_lasso.predict(x_test)\n",
    "y_pred_train = logit_lasso.predict(x_train)\n",
    "\n",
    "train_score = accuracy_score(y_train, y_pred_train)*100\n",
    "test_score = accuracy_score(y_test, y_pred_test)*100 \n",
    "\n",
    "print(f\"The training score is {train_score}\")\n",
    "print(f\"The testing score is {test_score}\")\n",
    "print(\"-------------------------------------------------------\")\n",
    "\n",
    "intercept = logit_lasso.intercept_\n",
    "coef = logit_lasso.coef_\n",
    "\n",
    "unselected_predictors = []\n",
    "selected_predictors = []\n",
    "print(\"-------------------------------------------------------\")\n",
    "\n",
    "print(\"These are the predictors that Lasso considered useful:\")\n",
    "print(\"-------------------------------------------------------\")\n",
    "for i in range(len(predictors)):\n",
    "    if coef[0][i] == 0:\n",
    "        unselected_predictors.append(predictors[i])\n",
    "    else:\n",
    "\n",
    "        selected_predictors.append(predictors[i])\n",
    "        print(f\"{predictors[i]} coefficient: {coef[0][i]:.3f}\")\n",
    "print(\"-------------------------------------------------------\")\n",
    "print(f\"Intercept: {intercept[0]:.3f}\")\n",
    "print(\"-------------------------------------------------------\")\n",
    "print(f\"These predictors are considered not useful from Lasso: {unselected_predictors}\")\n"
   ]
  },
  {
   "cell_type": "code",
   "execution_count": null,
   "metadata": {
    "cell_id": "00030-e3fe4b06-4571-4866-aab7-ed1303099911",
    "deepnote_cell_type": "code",
    "deepnote_output_heights": [
     20.8125
    ],
    "deepnote_to_be_reexecuted": true,
    "execution_millis": 24,
    "execution_start": 1638227210088,
    "source_hash": "7c1938ed",
    "tags": []
   },
   "outputs": [],
   "source": [
    "from sklearn.preprocessing import PolynomialFeatures\n",
    "poly = PolynomialFeatures(degree =2, interaction_only = True, include_bias=False)\n",
    "interaction_train = (poly.fit_transform(x_train))\n",
    "#print(f\"We have {interaction_train.shape[1]} interaction terms\")\n",
    "interaction_test = (poly.fit_transform(x_test))\n",
    "print(f\"We have {interaction_test.shape[1]} interaction terms\")\n",
    "\n"
   ]
  },
  {
   "cell_type": "code",
   "execution_count": null,
   "metadata": {
    "cell_id": "00031-98c2a0e1-421e-4190-8408-126a74d3e321",
    "deepnote_cell_type": "code",
    "deepnote_output_heights": [
     null,
     20.8125
    ],
    "deepnote_to_be_reexecuted": true,
    "execution_millis": 778,
    "execution_start": 1638227210132,
    "source_hash": "e4391caa",
    "tags": []
   },
   "outputs": [],
   "source": [
    "cv = 10\n",
    "logit_lasso_interact = LogisticRegressionCV(Cs = Cs, cv = cv, penalty = 'l1', solver = 'liblinear')\n",
    "logit_lasso_interact.fit(interaction_train, y_train)\n",
    "\n",
    "y_pred_train = logit_lasso_interact.predict(interaction_train)\n",
    "y_pred_test = logit_lasso_interact.predict(interaction_test)\n",
    "\n",
    "accuracy_train_int = accuracy_score(y_train, y_pred_train)*100\n",
    "accuracy_test_int = accuracy_score(y_test, y_pred_test)*100\n",
    "\n",
    "\n",
    "intercept = logit_lasso_interact.intercept_\n",
    "coef = logit_lasso_interact.coef_\n",
    "#print(f\" Here are the coefficients of the model: {coef}\")\n",
    "#print(f\"Here is the intercept: {intercept}\")\n",
    "print(f\"Here is the accuracy score from the train data: {accuracy_train_int:.3f}%\")\n",
    "print(f\"Here is the accuracy score from the test data: {accuracy_test_int:.3f}%\")\n",
    "\n",
    "#coef.shape\n",
    "#len(coef[0])"
   ]
  },
  {
   "cell_type": "markdown",
   "metadata": {
    "cell_id": "00034-a0ad6c32-dc72-4127-9993-24105ed6c013",
    "deepnote_cell_type": "markdown",
    "tags": []
   },
   "source": [
    "Clearly, we are still overfitting.\n",
    "\n",
    "Hence, let's go back a step and analyse the variables we selected. \n",
    "\n",
    "In the following code, we remove the  `attempt` and `conspiracy` predictors, as they are partly a linear combination with the predictor y. Being that the predictor `unrealised` is a perfect linear combination of the predictor `realised`, and that the predictor `unrealised` expresses the conspiracies and the attempts, we are dropping `attempt` and `conspiracy` predictors, to ensure we are avoiding **collinearity**. \n",
    "\n",
    "See the correlation matrix below. `unrealized` has 0.4 correlation with  `conspiracy` and 0.6 correlation with `attempt`. Hence, if we dropped `unrealized`, we also should have dropped `conspiracy` and `attempt`, as they are all correlated and they all explain the same.\n",
    "\n"
   ]
  },
  {
   "cell_type": "code",
   "execution_count": null,
   "metadata": {
    "cell_id": "00037-6a5e2c44-3087-4eb1-a140-6694c7051a5d",
    "deepnote_cell_type": "code",
    "deepnote_to_be_reexecuted": true,
    "execution_millis": 210,
    "execution_start": 1638227210878,
    "source_hash": "e563e4a1",
    "tags": []
   },
   "outputs": [],
   "source": [
    "coup_df.corr()"
   ]
  },
  {
   "cell_type": "code",
   "execution_count": null,
   "metadata": {
    "cell_id": "00038-d2ee9cb6-61b0-4ab9-a9ad-76d76e2c8e42",
    "deepnote_cell_type": "code",
    "deepnote_to_be_reexecuted": true,
    "execution_millis": 3,
    "execution_start": 1638227211141,
    "source_hash": "9d40f848",
    "tags": []
   },
   "outputs": [],
   "source": [
    "#### Correlation Check \n",
    "correlation_matrix = coup_df.corr()\n",
    "greater = [f'{correlation_matrix.columns[i]} and {correlation_matrix.columns[j]} have correlation {round(correlation_matrix.iloc[i,j], 5)}' for i, j in zip(*np.where(correlation_matrix.values > .99)) if i > j]\n",
    "lower = [f'{correlation_matrix.columns[i]} and {correlation_matrix.columns[j]} have correlation {round(correlation_matrix.iloc[i,j], 5)}' for i, j in zip(*np.where(correlation_matrix.values < - .99)) if i > j]\n",
    "print(\"Correlations greater than 0.99\")\n",
    "for i, sen in enumerate(greater): \n",
    "    print(i+1, '-', sen)\n",
    "print(\"\")\n",
    "print(\"Correlations less than -0.99\")\n",
    "for i, sen in enumerate(lower): \n",
    "    print(i+1, '-', sen)\n",
    "\n",
    "correlation_matrix = coup_df.corr()\n",
    "greater = [f'{correlation_matrix.columns[i]} and {correlation_matrix.columns[j]} have correlation {round(correlation_matrix.iloc[i,j], 5)}' for i, j in zip(*np.where(correlation_matrix.values > .60)) if i > j]\n",
    "lower = [f'{correlation_matrix.columns[i]} and {correlation_matrix.columns[j]} have correlation {round(correlation_matrix.iloc[i,j], 5)}' for i, j in zip(*np.where(correlation_matrix.values < - .60)) if i > j]\n",
    "print(\"\")\n",
    "print(\"Correlations greater than 0.30\")\n",
    "for i, sen in enumerate(greater): \n",
    "    print(i+1, '-', sen)\n",
    "print(\"\")\n",
    "print(\"Correlations less than -0.30\")\n",
    "for i, sen in enumerate(lower): \n",
    "    print(i+1, '-', sen)"
   ]
  },
  {
   "cell_type": "markdown",
   "metadata": {
    "cell_id": "00035-fea9a3dd-f1aa-46d3-93a0-f77136c32dc9",
    "deepnote_cell_type": "markdown",
    "tags": []
   },
   "source": [
    "### Trying the same, but without `attempt` and `conspiracy` columns"
   ]
  },
  {
   "cell_type": "code",
   "execution_count": null,
   "metadata": {
    "cell_id": "00036-9c3a23b7-11cd-4b8e-b845-01b1a48bb688",
    "deepnote_cell_type": "code",
    "deepnote_to_be_reexecuted": true,
    "execution_millis": 4,
    "execution_start": 1638229983988,
    "source_hash": "33e90570",
    "tags": []
   },
   "outputs": [],
   "source": [
    "coup_df_selected = coup_df.drop(columns = ['country', 'coup_id', 'event_type', 'unrealized', 'attempt', 'conspiracy'])\n",
    "\n",
    "y = coup_df_selected['realized']\n",
    "x = coup_df_selected.drop(columns = 'realized')\n",
    "#print(\"x shape\", x.shape)\n",
    "#print(\"y shape\", y.shape)\n",
    "#print(\"total df shape\", coup_df.shape)\n",
    "#print(\"total df shape\", coup_df_selected.shape)\n",
    "predictors_selected = x.columns.values.tolist()\n",
    "x_train, x_test, y_train, y_test = train_test_split(x, y, train_size=0.7, random_state=31)\n",
    "\n",
    "#print(x_train.shape)\n",
    "#print(y_train.shape)\n",
    "\n",
    "scores_dictionaries = {}"
   ]
  },
  {
   "cell_type": "code",
   "execution_count": null,
   "metadata": {
    "cell_id": "00037-dd4d345f-4002-4615-b899-ca7666df8142",
    "deepnote_cell_type": "code",
    "deepnote_to_be_reexecuted": true,
    "execution_millis": 6064,
    "execution_start": 1638230008672,
    "source_hash": "73619bdf",
    "tags": []
   },
   "outputs": [],
   "source": [
    "cross_validation_error = []\n",
    "lambda_list = np.linspace(0.00001, 1, 50)\n",
    "\n",
    "\n",
    "for lam in lambda_list:\n",
    "    lasso_reg = Lasso(alpha=lam)\n",
    "    lasso_reg.fit(x_train, y_train)\n",
    "\n",
    "    mse_score = cross_validate(lasso_reg, x_train,y_train, scoring =\n",
    "     \"neg_mean_squared_error\", cv = 10, return_train_score= False) #false\n",
    "\n",
    "    cross_validation_error.append(mse_score[\"test_score\"].mean()*-1) #we need positive numbers, this is the validation score\n",
    "\n",
    "\n",
    "min_cross_val_mse = min(cross_validation_error)\n",
    "best_cross_val_lambda_index = cross_validation_error.index(min_cross_val_mse)\n",
    "best_cross_val_lambda = lambda_list[best_cross_val_lambda_index]\n",
    "\n",
    "lasso_reg = Lasso(alpha=best_cross_val_lambda)\n",
    "lasso_reg.fit(x_train, y_train)\n",
    "intercept = lasso_reg.intercept_\n",
    "coef = lasso_reg.coef_\n",
    "\n",
    "unselected_predictors = []\n",
    "selected_predictors = []\n",
    "\n",
    "print(\"These are the predictors that Lasso considered useful:\")\n",
    "print(\"-------------------------------------------------------\")\n",
    "for i in range(len(predictors_selected)):\n",
    "    if coef[i] == 0 or coef[i] == -0.000:\n",
    "        unselected_predictors.append(predictors_selected[i])\n",
    "    else:\n",
    "\n",
    "        selected_predictors.append(predictors_selected[i])\n",
    "        print(f\"{predictors_selected[i]} coefficient: {coef[i]:.5f}\")\n",
    "print(\"-------------------------------------------------------\")\n",
    "print(f\"Intercept: {intercept:.3f}\")\n",
    "print(\"-------------------------------------------------------\")\n",
    "print(f\"These predictors are considered not useful from Lasso: {unselected_predictors}\")\n"
   ]
  },
  {
   "cell_type": "code",
   "execution_count": null,
   "metadata": {
    "cell_id": "00038-d7e69d55-4e51-4665-917f-e37751e5149c",
    "deepnote_cell_type": "code",
    "deepnote_output_heights": [
     null,
     155.5
    ],
    "deepnote_to_be_reexecuted": true,
    "execution_millis": 120,
    "execution_start": 1638228944406,
    "source_hash": "5ac22629",
    "tags": []
   },
   "outputs": [],
   "source": [
    "logistic = LogisticRegression(penalty = 'none', max_iter = 600)\n",
    "logistic.fit(x_train,y_train)\n",
    "logistic.intercept_\n",
    "y_pred_test = logistic.predict(x_test)\n",
    "y_pred_train = logistic.predict(x_train)\n",
    "\n",
    "train_score = accuracy_score(y_train, y_pred_train)*100\n",
    "test_score = accuracy_score(y_test, y_pred_test)*100 \n",
    "\n",
    "\n",
    "print(f\"The training score is {train_score}\")\n",
    "print(f\"The testing score is {test_score}\")\n",
    "\n",
    "scores_dictionaries[\"Logistic Regression test score\"] = test_score"
   ]
  },
  {
   "cell_type": "code",
   "execution_count": null,
   "metadata": {
    "cell_id": "00039-3de310d5-ea1f-4249-ae25-6a7119e680d0",
    "deepnote_cell_type": "code",
    "deepnote_to_be_reexecuted": true,
    "execution_millis": 3437093,
    "execution_start": 1638228998396,
    "source_hash": "d8562be",
    "tags": []
   },
   "outputs": [],
   "source": [
    "Cs = [1e-4, 1e-3, 1e-2, 1e-1, 1e0, 1e1, 1e2, 1e3, 1e4]\n",
    "cv = 10\n",
    "\n",
    "\n",
    "logit_lasso = LogisticRegressionCV(Cs= Cs, cv=cv, penalty='l1', solver='liblinear', max_iter = 10000).fit(x_train, y_train)\n",
    "y_pred_test = logit_lasso.predict(x_test)\n",
    "y_pred_train = logit_lasso.predict(x_train)\n",
    "\n",
    "train_score = accuracy_score(y_train, y_pred_train)*100\n",
    "test_score = accuracy_score(y_test, y_pred_test)*100 \n",
    "\n",
    "print(f\"The training score is {train_score}\")\n",
    "print(f\"The testing score is {test_score}\")\n",
    "print(\"-------------------------------------------------------\")\n",
    "\n",
    "intercept = logit_lasso.intercept_\n",
    "coef = logit_lasso.coef_\n",
    "\n",
    "unselected_predictors = []\n",
    "selected_predictors = []\n",
    "print(\"-------------------------------------------------------\")\n",
    "\n",
    "print(\"These are the predictors that Lasso considered useful:\")\n",
    "print(\"-------------------------------------------------------\")\n",
    "for i in range(len(predictors)):\n",
    "    if coef[0][i] == 0:\n",
    "        unselected_predictors.append(predictors[i])\n",
    "    else:\n",
    "\n",
    "        selected_predictors.append(predictors[i])\n",
    "        print(f\"{predictors[i]} coefficient: {coef[0][i]:.3f}\")\n",
    "print(\"-------------------------------------------------------\")\n",
    "print(f\"Intercept: {intercept[0]:.3f}\")\n",
    "print(\"-------------------------------------------------------\")\n",
    "print(f\"These predictors are considered not useful from Lasso: {unselected_predictors}\")"
   ]
  },
  {
   "cell_type": "code",
   "execution_count": null,
   "metadata": {
    "cell_id": "00042-88ccc725-5490-4c72-8804-706ec7fd12ee",
    "deepnote_cell_type": "code",
    "deepnote_to_be_reexecuted": true,
    "execution_millis": 1,
    "execution_start": 1638232435490,
    "source_hash": "11f547dc",
    "tags": []
   },
   "outputs": [],
   "source": [
    "scores_dictionaries[\"Logistic RegressionCV test score\"] = test_score"
   ]
  },
  {
   "cell_type": "code",
   "execution_count": null,
   "metadata": {
    "cell_id": "00041-5727b980-c36a-4d4f-a016-4534bc55b44d",
    "deepnote_cell_type": "code",
    "deepnote_output_heights": [
     null,
     21
    ],
    "deepnote_to_be_reexecuted": true,
    "execution_millis": 24,
    "execution_start": 1638232435490,
    "source_hash": "16a3d726",
    "tags": []
   },
   "outputs": [],
   "source": [
    "'''poly = PolynomialFeatures(degree =2, interaction_only = True, include_bias=False)\n",
    "interaction_train = (poly.fit_transform(x_train))\n",
    "interaction_train.shape\n",
    "interaction_test = (poly.fit_transform(x_test))\n",
    "interaction_train.shape\n",
    "cv = 10\n",
    "logit_lasso_interact = LogisticRegressionCV(Cs = Cs, cv = cv, penalty = 'l1',max_iter = 1000000, solver = 'liblinear')\n",
    "logit_lasso_interact.fit(interaction_train, y_train)\n",
    "\n",
    "y_pred_train = logit_lasso_interact.predict(interaction_train)\n",
    "y_pred_test = logit_lasso_interact.predict(interaction_test)\n",
    "\n",
    "accuracy_train_int = accuracy_score(y_train, y_pred_train)*100\n",
    "accuracy_test_int = accuracy_score(y_test, y_pred_test)*100\n",
    "\n",
    "\n",
    "intercept = logit_lasso_interact.intercept_\n",
    "coef = logit_lasso_interact.coef_\n",
    "#print(f\" Here are the coefficients of the model: {coef}\")\n",
    "#print(f\"Here is the intercept: {intercept}\")\n",
    "print(f\"Here is the accuracy score from the train data: {accuracy_train_int:.3f}%\")\n",
    "print(f\"Here is the accuracy score from the test data: {accuracy_test_int:.3f}%\")\n",
    "\n",
    "coef.shape\n",
    "len(coef[0])'''"
   ]
  },
  {
   "cell_type": "code",
   "execution_count": null,
   "metadata": {
    "cell_id": "00042-9b0a1b21-bb18-4131-a1a9-f78a65308be2",
    "deepnote_cell_type": "code",
    "deepnote_output_heights": [
     20.8125
    ],
    "deepnote_to_be_reexecuted": true,
    "execution_millis": 1,
    "execution_start": 1638232435497,
    "source_hash": "bc5d209a",
    "tags": []
   },
   "outputs": [],
   "source": [
    "#x_train.shape"
   ]
  },
  {
   "cell_type": "markdown",
   "metadata": {
    "cell_id": "00043-2576f350-c4a6-4ab1-aece-112a077d1739",
    "deepnote_cell_type": "markdown",
    "tags": []
   },
   "source": [
    "## Random Forest\n",
    "\n",
    "Given that our response variable indicates a success or a lack of success, we can try to use classification trees to predict it. In the following steps we will apply Random Forest (a form of bagging, i.e. from high variance/low bias as starting point) and Adaboost (a form of boosting, i.e. from high bias and low varias as starting point).\n",
    "\n",
    "We will tune our models on validation. \n",
    "\n",
    "At the end we will check which model better predicts our training dataset.\n",
    "\n"
   ]
  },
  {
   "cell_type": "code",
   "execution_count": null,
   "metadata": {
    "cell_id": "00044-e7f63a9d-fd79-46ec-a562-e069837cea82",
    "deepnote_cell_type": "code",
    "deepnote_to_be_reexecuted": true,
    "execution_millis": 2,
    "execution_start": 1638232435507,
    "source_hash": "e969a5cf",
    "tags": []
   },
   "outputs": [],
   "source": [
    "import seaborn as sns\n",
    "\n",
    "from sklearn.ensemble import RandomForestClassifier\n",
    "from sklearn.ensemble import AdaBoostClassifier\n",
    "from sklearn.metrics import accuracy_score\n",
    "from sklearn.model_selection import cross_val_score\n",
    "from sklearn.tree import DecisionTreeClassifier\n",
    "from sklearn.utils import resample\n",
    "\n",
    "scores_list=[]\n",
    "cv_scores = []\n",
    "cvmeans = []\n",
    "cvstds = []\n",
    "\n",
    "for i in range(1,23):\n",
    "    dtree = DecisionTreeClassifier(max_depth=i, random_state = i)\n",
    "    dtree.fit(x_train, y_train)\n",
    "    scores_list.append(dtree.score(x_train,y_train))\n",
    "    cs = cross_val_score(dtree, x_train, y_train, cv = 5) \n",
    "    cv_scores.append(cs)\n",
    "    \n",
    "for j in cv_scores:\n",
    "    cvmeans.append(j.mean())\n",
    "    cvstds.append(j.std())\n",
    "\n"
   ]
  },
  {
   "cell_type": "code",
   "execution_count": null,
   "metadata": {
    "cell_id": "00045-10e5f1c3-1d8e-4d2b-b307-3e99c986a70c",
    "deepnote_cell_type": "code",
    "deepnote_output_heights": [
     283.21875,
     283.21875
    ],
    "deepnote_to_be_reexecuted": true,
    "execution_millis": 32,
    "execution_start": 1638232435508,
    "source_hash": "d430bb3d",
    "tags": []
   },
   "outputs": [],
   "source": [
    "plt.figure(figsize=(20,10))\n",
    "plt.plot(np.linspace(1,22,22), scores_list, label=\"non cross validation training scores\")\n",
    "plt.plot(np.linspace(1,22,22), cvmeans, label=\"mean validation scores\")\n",
    "means_array=np.asarray(cvmeans)\n",
    "std_array = np.asarray(cvstds)\n",
    "plt.fill_between(np.linspace(1,22,22), (means_array - 2*std_array) , ( means_array + 2*std_array), label=\"+- std validation bounds\", alpha = 0.3) #fill between \n",
    "plt.title(\"Plotting the decision tree depth against the accuracy score\", size = 20)\n",
    "plt.ylabel(\"Accuracy Score\", size = 20)\n",
    "plt.xlabel(\"Decision tree Depth\", size = 20)\n",
    "plt.legend(fontsize = 20)\n",
    "plt.show()\n",
    "\n",
    "\n",
    "\n"
   ]
  },
  {
   "cell_type": "code",
   "execution_count": null,
   "metadata": {
    "cell_id": "00045-9e00c7c2-9892-4cb8-85b0-f0f2636958d2",
    "deepnote_cell_type": "code",
    "deepnote_to_be_reexecuted": true,
    "execution_millis": 32,
    "execution_start": 1638232435512,
    "source_hash": "dc224a5f",
    "tags": []
   },
   "outputs": [],
   "source": [
    "# the best depth is the one that maximises the accuracy cvmeans\n",
    "lowest_accuracy = min(cvmeans)\n",
    "worst_depth = cvmeans.index(lowest_accuracy)+1 #this is the best depth, which is 5\n",
    "print(\"The worst depth is the depth that minimizes the accuracy, this is the depth of : \", worst_depth,\". This depth leads to the accuracy of : \", lowest_accuracy*100, \"%\")\n",
    "\n",
    "new_tree = DecisionTreeClassifier(max_depth=worst_depth)\n",
    "new_tree.fit(x_train,y_train)\n",
    "worst_cv_tree_train_score = new_tree.score(x_train, y_train)\n",
    "worst_cv_tree_test_score = new_tree.score(x_test, y_test)\n",
    "\n",
    "print(f\"The accuracy on the training dataset of the decision tree with the worst depth of {worst_depth} is {worst_cv_tree_train_score:.4f}\")\n",
    "print(f\"The accuracy on the testing dataset of the decision tree with the worst depth of {worst_depth} is {worst_cv_tree_test_score:.4f}\")"
   ]
  },
  {
   "cell_type": "code",
   "execution_count": null,
   "metadata": {
    "cell_id": "00046-4899fcc4-473a-42bf-bc1a-173a7b0e4c3c",
    "deepnote_cell_type": "code",
    "deepnote_to_be_reexecuted": true,
    "execution_millis": 52,
    "execution_start": 1638232435522,
    "source_hash": "21ed04cd",
    "tags": []
   },
   "outputs": [],
   "source": [
    "# your code here\n",
    "\n",
    "# the best depth is the one that maximises the accuracy cvmeans\n",
    "highest_accuracy = max(cvmeans)\n",
    "best_depth = cvmeans.index(highest_accuracy)+1 #this is the best depth, which is 5\n",
    "print(\"The best depth is the depth that maximises the accuracy, this is the depth of : \", best_depth,\". This depth leads to the accuracy of : \", highest_accuracy*100, \"%\")\n",
    "\n",
    "new_tree = DecisionTreeClassifier(max_depth=best_depth)\n",
    "new_tree.fit(x_train,y_train)\n",
    "best_cv_tree_train_score = new_tree.score(x_train, y_train)\n",
    "best_cv_tree_test_score = new_tree.score(x_test, y_test)\n",
    "\n",
    "print(f\"The accuracy on the training dataset of the decision tree with the best depth of {best_depth} is {best_cv_tree_train_score:.4f}\")\n",
    "print(f\"The accuracy on the testing dataset of the decision tree with the best depth of {best_depth} is {best_cv_tree_test_score:.4f}\")\n",
    "\n"
   ]
  },
  {
   "cell_type": "code",
   "execution_count": null,
   "metadata": {
    "cell_id": "00048-f18fe0be-3c34-45bc-867a-1ec892ec1af4",
    "deepnote_cell_type": "code",
    "deepnote_to_be_reexecuted": true,
    "execution_millis": 51,
    "execution_start": 1638232435523,
    "source_hash": "7abc2af8",
    "tags": []
   },
   "outputs": [],
   "source": [
    "# your code here\n",
    "forest = RandomForestClassifier(max_depth = worst_depth, n_estimators = 100) #, random_state=2)  #number of tree is the number of estimators\n",
    "forest.fit(x_train, y_train)\n",
    "\n",
    "random_forest_train_score = forest.score(x_train, y_train)\n",
    "random_forest_test_score = forest.score(x_test, y_test)\n",
    "\n",
    "print(f\"The random forest train score is : {random_forest_train_score}\")\n",
    "print(f\"The random forest test score is : {random_forest_test_score}\")\n",
    "\n",
    "scores_dictionaries[\"Random Forest with 100 trees and depth {worst_depth} test score\"] = test_score\n"
   ]
  },
  {
   "cell_type": "code",
   "execution_count": null,
   "metadata": {
    "cell_id": "00049-fb32053f-fda7-476b-9050-3fe56d4d49f9",
    "deepnote_cell_type": "code",
    "deepnote_to_be_reexecuted": true,
    "execution_millis": 28,
    "execution_start": 1638232435524,
    "source_hash": "7f8b75c3",
    "tags": []
   },
   "outputs": [],
   "source": [
    "count_list_features = [0] * 22\n",
    "for i in range(len(forest.estimators_)):\n",
    "    for j in range(len(count_list_features)):\n",
    "        forest.estimators_[j].tree_.feature[0]\n",
    "        if forest.estimators_[i].tree_.feature[0] == j:\n",
    "            count_list_features[j] +=1\n",
    "     "
   ]
  },
  {
   "cell_type": "code",
   "execution_count": null,
   "metadata": {
    "cell_id": "00050-6928d0b9-32ed-4fc7-9cf5-630c9f5f67d9",
    "deepnote_cell_type": "code",
    "deepnote_output_heights": [
     420,
     420
    ],
    "deepnote_to_be_reexecuted": true,
    "execution_millis": 34,
    "execution_start": 1638232435549,
    "source_hash": "34200ba1",
    "tags": []
   },
   "outputs": [],
   "source": [
    "predictors_list = x_train.columns.values.tolist()\n",
    "predictors_list"
   ]
  },
  {
   "cell_type": "code",
   "execution_count": null,
   "metadata": {
    "cell_id": "00051-d20c4a77-4483-48cc-b72d-8f6193ec5da9",
    "deepnote_cell_type": "code",
    "deepnote_output_heights": [
     611
    ],
    "deepnote_to_be_reexecuted": true,
    "execution_millis": 33,
    "execution_start": 1638232435550,
    "source_hash": "7c9c4f9",
    "tags": []
   },
   "outputs": [],
   "source": [
    "count_features = pd.DataFrame()\n",
    "count_features['predictors'] = predictors_list\n",
    "count_features['how many times this feature was the top node in Random forest'] = count_list_features\n",
    "\n",
    "sorted_count = count_features.sort_values(by='how many times this feature was the top node in Random forest', ascending=False)\n",
    "sorted_count"
   ]
  },
  {
   "cell_type": "markdown",
   "metadata": {
    "cell_id": "00052-1769cb4c-c8e9-4b09-b845-c67e25557f43",
    "deepnote_cell_type": "markdown",
    "tags": []
   },
   "source": [
    "### Adaboost classifier"
   ]
  },
  {
   "cell_type": "code",
   "execution_count": null,
   "metadata": {
    "cell_id": "00053-90a2b391-257d-40dc-ab1f-88e1bfc792a6",
    "deepnote_cell_type": "code",
    "deepnote_to_be_reexecuted": true,
    "execution_millis": 1,
    "execution_start": 1638232435551,
    "source_hash": "1fb6e43d",
    "tags": []
   },
   "outputs": [],
   "source": [
    "\n",
    "\n",
    "\n",
    "from sklearn.ensemble import RandomForestClassifier\n",
    "from sklearn.ensemble import AdaBoostClassifier\n",
    "from sklearn.metrics import accuracy_score\n",
    "from sklearn.model_selection import cross_val_score\n",
    "from sklearn.tree import DecisionTreeClassifier\n",
    "from sklearn.utils import resample\n"
   ]
  },
  {
   "cell_type": "markdown",
   "metadata": {
    "cell_id": "00056-d2067832-f6ad-40d1-87a7-aacf06b5b58f",
    "deepnote_cell_type": "markdown",
    "tags": []
   },
   "source": [
    "Here we split the training dataset on train_val and validation"
   ]
  },
  {
   "cell_type": "code",
   "execution_count": null,
   "metadata": {
    "cell_id": "00052-7363b3a5-2c6b-4ddf-bf5b-ac7e7db24349",
    "deepnote_cell_type": "code",
    "deepnote_output_heights": [
     null,
     474.859375,
     null,
     474.859375
    ],
    "deepnote_to_be_reexecuted": true,
    "execution_millis": 19252,
    "execution_start": 1638232435551,
    "source_hash": "5d0cc88c",
    "tags": []
   },
   "outputs": [],
   "source": [
    "\n",
    "\n",
    "x_train_val, x_val, y_train_val, y_val = train_test_split(x_train, y_train, train_size=0.7, random_state=31)\n",
    "# your code here\n",
    "scores_train_45 = []\n",
    "scores_test_45 = []\n",
    "\n",
    "\n",
    "\n",
    "for i in range(1, 11):\n",
    "\n",
    "    boost4_4 = AdaBoostClassifier(base_estimator=DecisionTreeClassifier(max_depth=i), algorithm = 'SAMME.R', learning_rate = 0.05, n_estimators = 800)\n",
    "    boost4_4.fit(x_train_val, y_train_val)\n",
    "    scores_train_iteration = list(boost4_4.staged_score(x_train_val, y_train_val))\n",
    "    scores_test_iteration = list(boost4_4.staged_score(x_val, y_val))\n",
    "    scores_train_45.append(scores_train_iteration)\n",
    "    scores_test_45.append(scores_test_iteration)\n",
    "\n",
    "\n",
    "fig, axs = plt.subplots(2, 2, figsize = (50, 40))\n",
    "fig.subplots_adjust(hspace=.9, wspace=0.5)\n",
    "axs = axs.flatten()\n",
    "\n",
    "plt.suptitle(\"Plot showing the train and test datasets cumulative score for 800 iterations with depth from 1 to 4\", size = 30)\n",
    "\n",
    "for i in range(0,4):\n",
    "\n",
    "    axs[i].plot(np.linspace(1, 800, 800), scores_test_45[i], label = \"cumulative accuracy scores for the test dataset\" )\n",
    "    axs[i].plot(np.linspace(1, 800, 800), scores_train_45[i], label = \"cumulative accuracy scores for the train dataset\")\n",
    "    axs[i].legend(fontsize = 15)\n",
    "    axs[i].set_xlabel(\"Iterations from 1 to 800\")\n",
    "    axs[i].set_ylabel(\"cumulative accuracies\")\n",
    "    axs[i].set_title(f\"Plot showing the train and test datasets cumulative score for 800 iterations with depth {i+1}\", fontsize = 20)\n",
    "\n",
    "\n"
   ]
  },
  {
   "cell_type": "code",
   "execution_count": null,
   "metadata": {
    "cell_id": "00053-eab00058-55ac-4c1a-a9a2-24c067e1daa0",
    "deepnote_cell_type": "code",
    "deepnote_to_be_reexecuted": true,
    "execution_millis": 225,
    "execution_start": 1638232454790,
    "source_hash": "a8dd5291",
    "tags": []
   },
   "outputs": [],
   "source": [
    "test_depth1 = scores_test_45[0]\n",
    "test_depth2 = scores_test_45[1]\n",
    "test_depth3 = scores_test_45[2]\n",
    "test_depth4 = scores_test_45[3]\n",
    "\n",
    "train_depth1 = scores_train_45[0]\n",
    "train_depth2 = scores_train_45[1]\n",
    "train_depth3 = scores_train_45[2]\n",
    "train_depth4 = scores_train_45[3]\n",
    "\n",
    "highest_test_score_depth1 = max(test_depth1)\n",
    "best_n_trees1 = test_depth1.index(highest_test_score_depth1)+1 \n",
    "train_score_depth1 = train_depth1[best_n_trees1]\n",
    "\n",
    "highest_test_score_depth2 = max(test_depth2)\n",
    "best_n_trees2 = test_depth2.index(highest_test_score_depth2)+1 \n",
    "train_score_depth2 = train_depth1[best_n_trees2]\n",
    "\n",
    "highest_test_score_depth3 = max(test_depth3)\n",
    "best_n_trees3 = test_depth3.index(highest_test_score_depth3)+1 \n",
    "train_score_depth3 = train_depth1[best_n_trees3]\n",
    "\n",
    "highest_test_score_depth4 = max(test_depth4)\n",
    "best_n_trees4 = test_depth4.index(highest_test_score_depth4)+1 \n",
    "train_score_depth4 = train_depth1[best_n_trees4]\n",
    "\n",
    "\n",
    "score_1to4 = pd.DataFrame()\n",
    "score_1to4['depth'] = [1,2,3,4]\n",
    "score_1to4['highest validation accuracy']= [highest_test_score_depth1, highest_test_score_depth2, highest_test_score_depth3, highest_test_score_depth4]\n",
    "score_1to4['ideal amount of boosted trees']= [best_n_trees1, best_n_trees2, best_n_trees3, best_n_trees4]\n",
    "score_1to4['training score']=[train_score_depth1, train_score_depth2, train_score_depth3, train_score_depth4]\n",
    "\n",
    "score_1to4"
   ]
  },
  {
   "cell_type": "markdown",
   "metadata": {
    "cell_id": "00055-94236614-0118-4b61-af46-d164c3c539aa",
    "deepnote_cell_type": "markdown",
    "tags": []
   },
   "source": [
    "Based on the validation score, we pick the best depth and ideal number of trees, hence we fit the ada model again. "
   ]
  },
  {
   "cell_type": "code",
   "execution_count": null,
   "metadata": {
    "cell_id": "00056-67328d8c-9df6-4cc3-a53f-75e3a17a52ca",
    "deepnote_cell_type": "code",
    "deepnote_to_be_reexecuted": true,
    "execution_millis": 760,
    "execution_start": 1638232454880,
    "source_hash": "ef615841",
    "tags": []
   },
   "outputs": [],
   "source": [
    "import statistics\n",
    "\n",
    "\n",
    "ada_model_tuned = AdaBoostClassifier(base_estimator=DecisionTreeClassifier(max_depth=3), algorithm = 'SAMME.R', learning_rate = 0.05, n_estimators = 104)\n",
    "ada_model_tuned.fit(x_train, y_train)\n",
    "y_pred = ada_model_tuned.predict(x_test)\n",
    "\n",
    "ada_train_score = statistics.mean(list(ada_model_tuned.staged_score(x_train, y_train)))\n",
    "\n",
    "\n",
    "ada_test_score= statistics.mean(list(ada_model_tuned.staged_score(x_test, y_test)))\n",
    "\n",
    "print(f\"The adamodel score in the train is {ada_train_score} \")\n",
    "print(f\"The adamodel score in the test is {ada_test_score} \")\n",
    "#print(len(list(ada_train_score)))\n",
    "#print(ada_test_score)\n",
    "\n",
    "scores_dictionaries[\"Adaboost with depth 3 and 104 trees test score\"]=ada_test_score\n"
   ]
  },
  {
   "cell_type": "code",
   "execution_count": null,
   "metadata": {
    "cell_id": "00061-ebd3caf7-0599-4c69-ae2e-8042823afa97",
    "deepnote_cell_type": "code",
    "deepnote_output_heights": [
     97,
     78,
     78
    ],
    "deepnote_to_be_reexecuted": true,
    "execution_millis": 4,
    "execution_start": 1638232455642,
    "source_hash": "a3e95e15",
    "tags": []
   },
   "outputs": [],
   "source": [
    "scores_dictionaries"
   ]
  },
  {
   "cell_type": "markdown",
   "metadata": {
    "cell_id": "00062-b00278c4-653b-4a23-9f80-a6055be989fc",
    "deepnote_cell_type": "markdown",
    "tags": []
   },
   "source": [
    "Based on test scores, the model that performs the best is the `LogisticRegression` model. Hence, from here onwards we will try to analyse the how different perdictors affect he likelihood of an attempt/conspiracy to be successful (i.e. to become an actual coup, `realized` = 1) or not."
   ]
  },
  {
   "cell_type": "markdown",
   "metadata": {
    "cell_id": "00063-140fb451-197c-48a5-b986-5db09ebd26f9",
    "deepnote_cell_type": "markdown",
    "tags": []
   },
   "source": [
    "## More logistic regression and likelihood analysis"
   ]
  },
  {
   "cell_type": "markdown",
   "metadata": {
    "cell_id": "00065-91838506-1de1-4cb5-874d-ee97c2ad9fdf",
    "deepnote_cell_type": "markdown",
    "tags": []
   },
   "source": [
    "## Further modelling\n",
    "### Mixture of experts\n",
    "\n",
    "In this project we want to use ensamble models. Our next step will be to use mixture of experts to combine different models and their predictions."
   ]
  },
  {
   "cell_type": "markdown",
   "metadata": {
    "cell_id": "00014-2b574f79-6421-4ffc-b61a-5152289ca318",
    "deepnote_cell_type": "markdown",
    "tags": []
   },
   "source": []
  },
  {
   "cell_type": "markdown",
   "metadata": {
    "cell_id": "00015-e7bea887-047f-4f35-b0ca-8091b4732b61",
    "deepnote_cell_type": "markdown",
    "tags": []
   },
   "source": []
  },
  {
   "cell_type": "markdown",
   "metadata": {
    "cell_id": "00015-f7a06398-6197-41d0-bbbb-4dffaa4f6a18",
    "deepnote_cell_type": "markdown",
    "tags": []
   },
   "source": [
    "\n",
    "\n",
    "\n"
   ]
  },
  {
   "cell_type": "markdown",
   "metadata": {
    "cell_id": "00016-2310a6fe-ff32-4884-b38f-488c05eab9fe",
    "deepnote_cell_type": "markdown",
    "tags": []
   },
   "source": []
  },
  {
   "cell_type": "markdown",
   "metadata": {
    "cell_id": "00017-f041b197-61e4-4ed3-a99b-8c1c29dc74e8",
    "deepnote_cell_type": "markdown",
    "tags": []
   },
   "source": []
  },
  {
   "cell_type": "markdown",
   "metadata": {
    "cell_id": "00032-a4347640-62a4-4b8d-974f-d64ceecb0be5",
    "deepnote_cell_type": "markdown",
    "tags": []
   },
   "source": [
    "## PCA"
   ]
  },
  {
   "cell_type": "code",
   "execution_count": null,
   "metadata": {
    "cell_id": "00033-06187de1-f60f-4c5d-878c-8f392968a1be",
    "deepnote_cell_type": "code",
    "deepnote_to_be_reexecuted": true,
    "execution_millis": 10,
    "execution_start": 1638232461914,
    "source_hash": "9d40f848",
    "tags": []
   },
   "outputs": [],
   "source": [
    "#### Correlation Check \n",
    "correlation_matrix = coup_df.corr()\n",
    "greater = [f'{correlation_matrix.columns[i]} and {correlation_matrix.columns[j]} have correlation {round(correlation_matrix.iloc[i,j], 5)}' for i, j in zip(*np.where(correlation_matrix.values > .99)) if i > j]\n",
    "lower = [f'{correlation_matrix.columns[i]} and {correlation_matrix.columns[j]} have correlation {round(correlation_matrix.iloc[i,j], 5)}' for i, j in zip(*np.where(correlation_matrix.values < - .99)) if i > j]\n",
    "print(\"Correlations greater than 0.99\")\n",
    "for i, sen in enumerate(greater): \n",
    "    print(i+1, '-', sen)\n",
    "print(\"\")\n",
    "print(\"Correlations less than -0.99\")\n",
    "for i, sen in enumerate(lower): \n",
    "    print(i+1, '-', sen)\n",
    "\n",
    "correlation_matrix = coup_df.corr()\n",
    "greater = [f'{correlation_matrix.columns[i]} and {correlation_matrix.columns[j]} have correlation {round(correlation_matrix.iloc[i,j], 5)}' for i, j in zip(*np.where(correlation_matrix.values > .60)) if i > j]\n",
    "lower = [f'{correlation_matrix.columns[i]} and {correlation_matrix.columns[j]} have correlation {round(correlation_matrix.iloc[i,j], 5)}' for i, j in zip(*np.where(correlation_matrix.values < - .60)) if i > j]\n",
    "print(\"\")\n",
    "print(\"Correlations greater than 0.30\")\n",
    "for i, sen in enumerate(greater): \n",
    "    print(i+1, '-', sen)\n",
    "print(\"\")\n",
    "print(\"Correlations less than -0.30\")\n",
    "for i, sen in enumerate(lower): \n",
    "    print(i+1, '-', sen)"
   ]
  },
  {
   "cell_type": "code",
   "execution_count": null,
   "metadata": {
    "cell_id": "00036-9804b4ca-6abe-4a9a-a0a5-8210dadd66d5",
    "deepnote_cell_type": "code",
    "deepnote_to_be_reexecuted": true,
    "execution_millis": 9,
    "execution_start": 1638232461927,
    "source_hash": "db8213bb",
    "tags": []
   },
   "outputs": [],
   "source": [
    "dropped = ['country', 'coup_id', 'cowcode', 'event_type', 'unrealized']\n",
    "# x_train, x_test, y_train, y_test\n",
    "y = coup_df[['realized']]\n",
    "X = coup_df.drop(columns = dropped)\n",
    "print(y.shape)\n",
    "print(X.shape)"
   ]
  },
  {
   "cell_type": "code",
   "execution_count": null,
   "metadata": {
    "cell_id": "00037-888a9d95-6623-4d5d-81fc-98d925f14749",
    "deepnote_cell_type": "code",
    "deepnote_to_be_reexecuted": true,
    "execution_millis": 6,
    "execution_start": 1638232461943,
    "source_hash": "54c13654",
    "tags": []
   },
   "outputs": [],
   "source": [
    "from sklearn.preprocessing import StandardScaler\n",
    "from sklearn.decomposition import PCA\n"
   ]
  },
  {
   "cell_type": "code",
   "execution_count": null,
   "metadata": {
    "cell_id": "00037-e52938c1-e39d-4c38-ba3a-6de110a7d7ea",
    "deepnote_cell_type": "code",
    "deepnote_output_heights": [
     607
    ],
    "deepnote_to_be_reexecuted": true,
    "execution_millis": 5,
    "execution_start": 1638232461988,
    "source_hash": "28e4f759",
    "tags": []
   },
   "outputs": [],
   "source": [
    "# your code here\n",
    "X_scaled = StandardScaler().fit_transform(X)\n",
    "pca = PCA(n_components=2).fit(X_scaled)\n",
    "X_scaled_pca = pca.transform(X_scaled)\n",
    "\n",
    "X_scaled_pca = pd.DataFrame(X_scaled_pca, columns=['1st component','2nd component'])\n",
    "print(\"Done\")"
   ]
  },
  {
   "cell_type": "code",
   "execution_count": null,
   "metadata": {
    "cell_id": "00043-254394b3-29d0-4302-a7bf-fc001e8b0ae0",
    "deepnote_cell_type": "code",
    "deepnote_output_heights": [
     null,
     611
    ],
    "deepnote_to_be_reexecuted": true,
    "execution_millis": 4474,
    "execution_start": 1638232461997,
    "source_hash": "51dc41e0",
    "tags": []
   },
   "outputs": [],
   "source": [
    "# to plot vectors from the center\n",
    "vecs = pca.components_[0:10].T *4\n",
    "\n",
    "fig, ax = plt.subplots(figsize=(15,15))\n",
    "\n",
    "\n",
    "# ax.plot(X_scaled_pca['1st component'], X_scaled_pca['2nd component'], 'ok', )\n",
    "ax.set_xlabel('1st Principal Component')\n",
    "ax.set_ylabel('2nd Principal Component')\n",
    "ax.set_title(\"Coup D'etat dataset plotted using 2 Principal Components\", fontsize=20)\n",
    "\n",
    "# plotting arrowheads of the original axes projected on the 2D PCA space\n",
    "for i, vec in enumerate(vecs):\n",
    "    if (coup_df.columns[i] in dropped or coup_df.columns[i] == \"realized\"):\n",
    "        continue\n",
    "    ax.arrow(0,0,vec[0],vec[1], color='black', head_width=0.1, alpha=0.2)\n",
    "    s = 1.1\n",
    "    ax.annotate(coup_df.columns[i], (s*vec[0], s*vec[1]), color='black', size=16,)\n",
    "\n",
    "colors = {0: sns.xkcd_rgb[\"magenta\"], 1: sns.xkcd_rgb[\"medium green\"]}\n",
    "\n",
    "# annotating text\n",
    "for i, txt in enumerate(y_train):\n",
    "    ax.annotate(txt, (X_scaled_pca['1st component'][i], X_scaled_pca['2nd component'][i]), size=12, color=colors[txt])"
   ]
  },
  {
   "cell_type": "code",
   "execution_count": null,
   "metadata": {
    "cell_id": "00089-1bcc3f32-22fd-4195-a786-af1abffe472b",
    "deepnote_cell_type": "code",
    "deepnote_to_be_reexecuted": true,
    "execution_start": 1638232466477,
    "source_hash": "b623e53d",
    "tags": []
   },
   "outputs": [],
   "source": []
  },
  {
   "cell_type": "markdown",
   "metadata": {
    "created_in_deepnote_cell": true,
    "deepnote_cell_type": "markdown",
    "tags": []
   },
   "source": [
    "<a style='text-decoration:none;line-height:16px;display:flex;color:#5B5B62;padding:10px;justify-content:end;' href='https://deepnote.com?utm_source=created-in-deepnote-cell&projectId=7c03d1c0-0b1a-403a-ac67-323d25d826e9' target=\"_blank\">\n",
    "<img alt='Created in deepnote.com' style='display:inline;max-height:16px;margin:0px;margin-right:7.5px;' src='data:image/svg+xml;base64,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' > </img>\n",
    "Created in <span style='font-weight:600;margin-left:4px;'>Deepnote</span></a>"
   ]
  }
 ],
 "metadata": {
  "deepnote": {
   "is_reactive": false
  },
  "deepnote_execution_queue": [],
  "deepnote_notebook_id": "229d1520-36b1-4b76-8ca1-3e37619c6be8",
  "kernelspec": {
   "display_name": "Python 3",
   "language": "python",
   "name": "python3"
  },
  "language_info": {
   "codemirror_mode": {
    "name": "ipython",
    "version": 3
   },
   "file_extension": ".py",
   "mimetype": "text/x-python",
   "name": "python",
   "nbconvert_exporter": "python",
   "pygments_lexer": "ipython3",
   "version": "3.8.8"
  }
 },
 "nbformat": 4,
 "nbformat_minor": 4
}
